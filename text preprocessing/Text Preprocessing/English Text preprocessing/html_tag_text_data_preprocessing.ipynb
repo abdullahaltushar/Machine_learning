{
 "cells": [
  {
   "cell_type": "code",
   "execution_count": 1,
   "id": "f3dfce82",
   "metadata": {},
   "outputs": [],
   "source": [
    "import re, string, unicodedata\n",
    "import nltk\n",
    "import contractions\n",
    "import inflect\n",
    "from bs4 import BeautifulSoup\n",
    "from nltk import word_tokenize, sent_tokenize\n",
    "from nltk.corpus import stopwords\n",
    "from nltk.stem import LancasterStemmer, WordNetLemmatizer"
   ]
  },
  {
   "cell_type": "markdown",
   "id": "5bf2df25",
   "metadata": {},
   "source": [
    "NLTK - The Natural Language ToolKit is one of the best-known and most-used NLP libraries in the Python ecosystem, useful for all sorts of tasks from tokenization, to stemming, to part of speech tagging, and beyond\n"
   ]
  },
  {
   "cell_type": "markdown",
   "id": "9ac6c64d",
   "metadata": {},
   "source": [
    "BeautifulSoup - BeautifulSoup is a useful library for extracting data from HTML and XML documents\n"
   ]
  },
  {
   "cell_type": "markdown",
   "id": "6cedcd6a",
   "metadata": {},
   "source": [
    "Inflect - This is a simple library for accomplishing the natural language related tasks of generating plurals, singular nouns, ordinals, and indefinite articles, and (of most interest to us) converting numbers to words\n"
   ]
  },
  {
   "cell_type": "markdown",
   "id": "a62091b7",
   "metadata": {},
   "source": [
    "Contractions - Another simple library, solely for expanding contractions"
   ]
  },
  {
   "cell_type": "code",
   "execution_count": 2,
   "id": "61bced3c",
   "metadata": {},
   "outputs": [],
   "source": [
    "sample = \"\"\"<h1>Title Goes Here</h1>\n",
    "<b>Bolded Text</b>\n",
    "<i>Italicized Text</i>\n",
    "<img src=\"this should all be gone\"/>\n",
    "<a href=\"this will be gone, too\">But this will still be here!</a>\n",
    "I run. He ran. She is running. Will they stop running?\n",
    "I talked. She was talking. They talked to them about running. Who ran to the talking runner?\n",
    "[Some text we don't want to keep is in here]\n",
    "¡Sebastián, Nicolás, Alejandro and Jéronimo are going to the store tomorrow morning!\n",
    "something... is! wrong() with.,; this :: sentence.\n",
    "I can't do this anymore. I didn't know them. Why couldn't you have dinner at the restaurant?\n",
    "My favorite movie franchises, in order: Indiana Jones; Marvel Cinematic Universe; Star Wars; Back to the Future; Harry Potter.\n",
    "Don't do it.... Just don't. Billy! I know what you're doing. This is a great little house you've got here.\n",
    "[This is some other unwanted text]\n",
    "John: \"Well, well, well.\"\n",
    "James: \"There, there. There, there.\"\n",
    "&nbsp;&nbsp;\n",
    "There are a lot of reasons not to do this. There are 101 reasons not to do it. 1000000 reasons, actually.\n",
    "I have to go get 2 tutus from 2 different stores, too.\n",
    "22    45   1067   445\n",
    "{{Here is some stuff inside of double curly braces.}}\n",
    "{Here is more stuff in single curly braces.}\n",
    "[DELETE]\n",
    "</body>\n",
    "</html>\"\"\""
   ]
  },
  {
   "cell_type": "markdown",
   "id": "9f808a0c",
   "metadata": {},
   "source": [
    "# html tag remove"
   ]
  },
  {
   "cell_type": "code",
   "execution_count": 3,
   "id": "6532ea83",
   "metadata": {},
   "outputs": [
    {
     "data": {
      "text/plain": [
       "'hello'"
      ]
     },
     "execution_count": 3,
     "metadata": {},
     "output_type": "execute_result"
    }
   ],
   "source": [
    "soup=BeautifulSoup('<h1>hello</h1>', \"html.parser\")\n",
    "soup.get_text()\n"
   ]
  },
  {
   "cell_type": "code",
   "execution_count": 4,
   "id": "0484e66a",
   "metadata": {},
   "outputs": [],
   "source": [
    "def strip_html(text):\n",
    "    soup = BeautifulSoup(text, \"html.parser\")\n",
    "    return soup.get_text()"
   ]
  },
  {
   "cell_type": "markdown",
   "id": "d9bbe0b5",
   "metadata": {},
   "source": [
    "# remove  \\[[^]]*\\]"
   ]
  },
  {
   "cell_type": "code",
   "execution_count": 5,
   "id": "b4f4f2bb",
   "metadata": {},
   "outputs": [],
   "source": [
    "def remove_between_square_brackets(text):\n",
    "    return re.sub('\\[[^]]*\\]', '', text)"
   ]
  },
  {
   "cell_type": "code",
   "execution_count": 6,
   "id": "426cfd30",
   "metadata": {},
   "outputs": [],
   "source": [
    "def denoise_text(text):\n",
    "    text = strip_html(text)\n",
    "    text = remove_between_square_brackets(text)\n",
    "    return text\n"
   ]
  },
  {
   "cell_type": "code",
   "execution_count": 7,
   "id": "3b76e644",
   "metadata": {},
   "outputs": [
    {
     "name": "stdout",
     "output_type": "stream",
     "text": [
      "Title Goes Here\n",
      "Bolded Text\n",
      "Italicized Text\n",
      "\n",
      "But this will still be here!\n",
      "I run. He ran. She is running. Will they stop running?\n",
      "I talked. She was talking. They talked to them about running. Who ran to the talking runner?\n",
      "\n",
      "¡Sebastián, Nicolás, Alejandro and Jéronimo are going to the store tomorrow morning!\n",
      "something... is! wrong() with.,; this :: sentence.\n",
      "I can't do this anymore. I didn't know them. Why couldn't you have dinner at the restaurant?\n",
      "My favorite movie franchises, in order: Indiana Jones; Marvel Cinematic Universe; Star Wars; Back to the Future; Harry Potter.\n",
      "Don't do it.... Just don't. Billy! I know what you're doing. This is a great little house you've got here.\n",
      "\n",
      "John: \"Well, well, well.\"\n",
      "James: \"There, there. There, there.\"\n",
      "  \n",
      "There are a lot of reasons not to do this. There are 101 reasons not to do it. 1000000 reasons, actually.\n",
      "I have to go get 2 tutus from 2 different stores, too.\n",
      "22    45   1067   445\n",
      "{{Here is some stuff inside of double curly braces.}}\n",
      "{Here is more stuff in single curly braces.}\n",
      "\n",
      "\n",
      "\n"
     ]
    }
   ],
   "source": [
    "sample = denoise_text(sample)\n",
    "print(sample)"
   ]
  },
  {
   "cell_type": "markdown",
   "id": "3c11424c",
   "metadata": {},
   "source": [
    "# contractions the text"
   ]
  },
  {
   "cell_type": "code",
   "execution_count": 8,
   "id": "b358392a",
   "metadata": {},
   "outputs": [
    {
     "data": {
      "text/plain": [
       "'you are happy now'"
      ]
     },
     "execution_count": 8,
     "metadata": {},
     "output_type": "execute_result"
    }
   ],
   "source": [
    "text=\"you're happy now\"\n",
    "contractions.fix(text)"
   ]
  },
  {
   "cell_type": "code",
   "execution_count": 9,
   "id": "38e2eafb",
   "metadata": {},
   "outputs": [
    {
     "name": "stdout",
     "output_type": "stream",
     "text": [
      "Title Goes Here\n",
      "Bolded Text\n",
      "Italicized Text\n",
      "\n",
      "But this will still be here!\n",
      "I run. He ran. She is running. Will they stop running?\n",
      "I talked. She was talking. They talked to them about running. Who ran to the talking runner?\n",
      "\n",
      "¡Sebastián, Nicolás, Alejandro and Jéronimo are going to the store tomorrow morning!\n",
      "something... is! wrong() with.,; this :: sentence.\n",
      "I cannot do this anymore. I did not know them. Why could not you have dinner at the restaurant?\n",
      "My favorite movie franchises, in order: Indiana Jones; Marvel Cinematic Universe; Star Wars; Back to the Future; Harry Potter.\n",
      "do not do it.... Just do not. Billy! I know what you are doing. This is a great little house you have got here.\n",
      "\n",
      "John: \"Well, well, well.\"\n",
      "James: \"There, there. There, there.\"\n",
      "  \n",
      "There are a lot of reasons not to do this. There are 101 reasons not to do it. 1000000 reasons, actually.\n",
      "I have to go get 2 tutus from 2 different stores, too.\n",
      "22    45   1067   445\n",
      "{{Here is some stuff inside of double curly braces.}}\n",
      "{Here is more stuff in single curly braces.}\n",
      "\n",
      "\n",
      "\n"
     ]
    }
   ],
   "source": [
    "def replace_contractions(text):\n",
    "    \"\"\"Replace contractions in string of text\"\"\"\n",
    "    return contractions.fix(text)\n",
    "\n",
    "sample = replace_contractions(sample)\n",
    "print(sample)"
   ]
  },
  {
   "cell_type": "markdown",
   "id": "7e2afac5",
   "metadata": {},
   "source": [
    "# tokenization"
   ]
  },
  {
   "cell_type": "code",
   "execution_count": 10,
   "id": "d42b9167",
   "metadata": {},
   "outputs": [
    {
     "name": "stdout",
     "output_type": "stream",
     "text": [
      "['Title', 'Goes', 'Here', 'Bolded', 'Text', 'Italicized', 'Text', 'But', 'this', 'will', 'still', 'be', 'here', '!', 'I', 'run', '.', 'He', 'ran', '.', 'She', 'is', 'running', '.', 'Will', 'they', 'stop', 'running', '?', 'I', 'talked', '.', 'She', 'was', 'talking', '.', 'They', 'talked', 'to', 'them', 'about', 'running', '.', 'Who', 'ran', 'to', 'the', 'talking', 'runner', '?', '¡Sebastián', ',', 'Nicolás', ',', 'Alejandro', 'and', 'Jéronimo', 'are', 'going', 'to', 'the', 'store', 'tomorrow', 'morning', '!', 'something', '...', 'is', '!', 'wrong', '(', ')', 'with.', ',', ';', 'this', ':', ':', 'sentence', '.', 'I', 'can', 'not', 'do', 'this', 'anymore', '.', 'I', 'did', 'not', 'know', 'them', '.', 'Why', 'could', 'not', 'you', 'have', 'dinner', 'at', 'the', 'restaurant', '?', 'My', 'favorite', 'movie', 'franchises', ',', 'in', 'order', ':', 'Indiana', 'Jones', ';', 'Marvel', 'Cinematic', 'Universe', ';', 'Star', 'Wars', ';', 'Back', 'to', 'the', 'Future', ';', 'Harry', 'Potter', '.', 'do', 'not', 'do', 'it', '....', 'Just', 'do', 'not', '.', 'Billy', '!', 'I', 'know', 'what', 'you', 'are', 'doing', '.', 'This', 'is', 'a', 'great', 'little', 'house', 'you', 'have', 'got', 'here', '.', 'John', ':', '``', 'Well', ',', 'well', ',', 'well', '.', \"''\", 'James', ':', '``', 'There', ',', 'there', '.', 'There', ',', 'there', '.', \"''\", 'There', 'are', 'a', 'lot', 'of', 'reasons', 'not', 'to', 'do', 'this', '.', 'There', 'are', '101', 'reasons', 'not', 'to', 'do', 'it', '.', '1000000', 'reasons', ',', 'actually', '.', 'I', 'have', 'to', 'go', 'get', '2', 'tutus', 'from', '2', 'different', 'stores', ',', 'too', '.', '22', '45', '1067', '445', '{', '{', 'Here', 'is', 'some', 'stuff', 'inside', 'of', 'double', 'curly', 'braces', '.', '}', '}', '{', 'Here', 'is', 'more', 'stuff', 'in', 'single', 'curly', 'braces', '.', '}']\n"
     ]
    }
   ],
   "source": [
    "words = nltk.word_tokenize(sample)\n",
    "print(words)"
   ]
  },
  {
   "cell_type": "markdown",
   "id": "0d332318",
   "metadata": {},
   "source": [
    "# no ascii remove"
   ]
  },
  {
   "cell_type": "code",
   "execution_count": 11,
   "id": "defac326",
   "metadata": {},
   "outputs": [
    {
     "name": "stdout",
     "output_type": "stream",
     "text": [
      "a string with funny characters.\n"
     ]
    }
   ],
   "source": [
    "#remove\n",
    "string_with_nonASCII = \"àa string withé fuünny charactersß.\"\n",
    "\n",
    "encoded_string = string_with_nonASCII.encode(\"ascii\", \"ignore\")\n",
    "decode_string = encoded_string.decode()\n",
    "\n",
    "print(decode_string)"
   ]
  },
  {
   "cell_type": "code",
   "execution_count": 12,
   "id": "001ced74",
   "metadata": {},
   "outputs": [],
   "source": [
    "def remove_non_ascii(words):\n",
    "    \"\"\"Remove non-ASCII characters from list of tokenized words\"\"\"\n",
    "    new_words = []\n",
    "    for word in words:\n",
    "        new_word = unicodedata.normalize('NFKD', word).encode('ascii', 'ignore').decode('utf-8', 'ignore')\n",
    "        new_words.append(new_word)\n",
    "    return new_words"
   ]
  },
  {
   "cell_type": "code",
   "execution_count": 13,
   "id": "6fbb1eda",
   "metadata": {},
   "outputs": [
    {
     "name": "stdout",
     "output_type": "stream",
     "text": [
      "['Title', 'Goes', 'Here', 'Bolded', 'Text', 'Italicized', 'Text', 'But', 'this', 'will', 'still', 'be', 'here', '!', 'I', 'run', '.', 'He', 'ran', '.', 'She', 'is', 'running', '.', 'Will', 'they', 'stop', 'running', '?', 'I', 'talked', '.', 'She', 'was', 'talking', '.', 'They', 'talked', 'to', 'them', 'about', 'running', '.', 'Who', 'ran', 'to', 'the', 'talking', 'runner', '?', 'Sebastian', ',', 'Nicolas', ',', 'Alejandro', 'and', 'Jeronimo', 'are', 'going', 'to', 'the', 'store', 'tomorrow', 'morning', '!', 'something', '...', 'is', '!', 'wrong', '(', ')', 'with.', ',', ';', 'this', ':', ':', 'sentence', '.', 'I', 'can', 'not', 'do', 'this', 'anymore', '.', 'I', 'did', 'not', 'know', 'them', '.', 'Why', 'could', 'not', 'you', 'have', 'dinner', 'at', 'the', 'restaurant', '?', 'My', 'favorite', 'movie', 'franchises', ',', 'in', 'order', ':', 'Indiana', 'Jones', ';', 'Marvel', 'Cinematic', 'Universe', ';', 'Star', 'Wars', ';', 'Back', 'to', 'the', 'Future', ';', 'Harry', 'Potter', '.', 'do', 'not', 'do', 'it', '....', 'Just', 'do', 'not', '.', 'Billy', '!', 'I', 'know', 'what', 'you', 'are', 'doing', '.', 'This', 'is', 'a', 'great', 'little', 'house', 'you', 'have', 'got', 'here', '.', 'John', ':', '``', 'Well', ',', 'well', ',', 'well', '.', \"''\", 'James', ':', '``', 'There', ',', 'there', '.', 'There', ',', 'there', '.', \"''\", 'There', 'are', 'a', 'lot', 'of', 'reasons', 'not', 'to', 'do', 'this', '.', 'There', 'are', '101', 'reasons', 'not', 'to', 'do', 'it', '.', '1000000', 'reasons', ',', 'actually', '.', 'I', 'have', 'to', 'go', 'get', '2', 'tutus', 'from', '2', 'different', 'stores', ',', 'too', '.', '22', '45', '1067', '445', '{', '{', 'Here', 'is', 'some', 'stuff', 'inside', 'of', 'double', 'curly', 'braces', '.', '}', '}', '{', 'Here', 'is', 'more', 'stuff', 'in', 'single', 'curly', 'braces', '.', '}']\n"
     ]
    }
   ],
   "source": [
    "words =  remove_non_ascii(words)\n",
    "print(words)"
   ]
  },
  {
   "cell_type": "markdown",
   "id": "e11a7cc9",
   "metadata": {},
   "source": [
    "# convert all data lower case"
   ]
  },
  {
   "cell_type": "code",
   "execution_count": 14,
   "id": "204c8045",
   "metadata": {},
   "outputs": [],
   "source": [
    "def to_lowercase(words):\n",
    "    \"\"\"Convert all characters to lowercase from list of tokenized words\"\"\"\n",
    "    new_words = []\n",
    "    for word in words:\n",
    "        new_word = word.lower()\n",
    "        new_words.append(new_word)\n",
    "    return new_words"
   ]
  },
  {
   "cell_type": "code",
   "execution_count": 15,
   "id": "9b898bde",
   "metadata": {},
   "outputs": [
    {
     "name": "stdout",
     "output_type": "stream",
     "text": [
      "['title', 'goes', 'here', 'bolded', 'text', 'italicized', 'text', 'but', 'this', 'will', 'still', 'be', 'here', '!', 'i', 'run', '.', 'he', 'ran', '.', 'she', 'is', 'running', '.', 'will', 'they', 'stop', 'running', '?', 'i', 'talked', '.', 'she', 'was', 'talking', '.', 'they', 'talked', 'to', 'them', 'about', 'running', '.', 'who', 'ran', 'to', 'the', 'talking', 'runner', '?', 'sebastian', ',', 'nicolas', ',', 'alejandro', 'and', 'jeronimo', 'are', 'going', 'to', 'the', 'store', 'tomorrow', 'morning', '!', 'something', '...', 'is', '!', 'wrong', '(', ')', 'with.', ',', ';', 'this', ':', ':', 'sentence', '.', 'i', 'can', 'not', 'do', 'this', 'anymore', '.', 'i', 'did', 'not', 'know', 'them', '.', 'why', 'could', 'not', 'you', 'have', 'dinner', 'at', 'the', 'restaurant', '?', 'my', 'favorite', 'movie', 'franchises', ',', 'in', 'order', ':', 'indiana', 'jones', ';', 'marvel', 'cinematic', 'universe', ';', 'star', 'wars', ';', 'back', 'to', 'the', 'future', ';', 'harry', 'potter', '.', 'do', 'not', 'do', 'it', '....', 'just', 'do', 'not', '.', 'billy', '!', 'i', 'know', 'what', 'you', 'are', 'doing', '.', 'this', 'is', 'a', 'great', 'little', 'house', 'you', 'have', 'got', 'here', '.', 'john', ':', '``', 'well', ',', 'well', ',', 'well', '.', \"''\", 'james', ':', '``', 'there', ',', 'there', '.', 'there', ',', 'there', '.', \"''\", 'there', 'are', 'a', 'lot', 'of', 'reasons', 'not', 'to', 'do', 'this', '.', 'there', 'are', '101', 'reasons', 'not', 'to', 'do', 'it', '.', '1000000', 'reasons', ',', 'actually', '.', 'i', 'have', 'to', 'go', 'get', '2', 'tutus', 'from', '2', 'different', 'stores', ',', 'too', '.', '22', '45', '1067', '445', '{', '{', 'here', 'is', 'some', 'stuff', 'inside', 'of', 'double', 'curly', 'braces', '.', '}', '}', '{', 'here', 'is', 'more', 'stuff', 'in', 'single', 'curly', 'braces', '.', '}']\n"
     ]
    }
   ],
   "source": [
    "words =  to_lowercase(words)\n",
    "print(words)"
   ]
  },
  {
   "cell_type": "markdown",
   "id": "55e47b44",
   "metadata": {},
   "source": [
    "# remove punctuation "
   ]
  },
  {
   "cell_type": "code",
   "execution_count": 16,
   "id": "cfd52b1a",
   "metadata": {},
   "outputs": [],
   "source": [
    "def remove_punctuation(words):\n",
    "    \"\"\"Remove punctuation from list of tokenized words\"\"\"\n",
    "    new_words = []\n",
    "    for word in words:\n",
    "        new_word = re.sub(r'[^\\w\\s]', '', word)\n",
    "        if new_word != '':\n",
    "            new_words.append(new_word)\n",
    "    return new_words"
   ]
  },
  {
   "cell_type": "code",
   "execution_count": 17,
   "id": "7049f872",
   "metadata": {},
   "outputs": [
    {
     "name": "stdout",
     "output_type": "stream",
     "text": [
      "['title', 'goes', 'here', 'bolded', 'text', 'italicized', 'text', 'but', 'this', 'will', 'still', 'be', 'here', 'i', 'run', 'he', 'ran', 'she', 'is', 'running', 'will', 'they', 'stop', 'running', 'i', 'talked', 'she', 'was', 'talking', 'they', 'talked', 'to', 'them', 'about', 'running', 'who', 'ran', 'to', 'the', 'talking', 'runner', 'sebastian', 'nicolas', 'alejandro', 'and', 'jeronimo', 'are', 'going', 'to', 'the', 'store', 'tomorrow', 'morning', 'something', 'is', 'wrong', 'with', 'this', 'sentence', 'i', 'can', 'not', 'do', 'this', 'anymore', 'i', 'did', 'not', 'know', 'them', 'why', 'could', 'not', 'you', 'have', 'dinner', 'at', 'the', 'restaurant', 'my', 'favorite', 'movie', 'franchises', 'in', 'order', 'indiana', 'jones', 'marvel', 'cinematic', 'universe', 'star', 'wars', 'back', 'to', 'the', 'future', 'harry', 'potter', 'do', 'not', 'do', 'it', 'just', 'do', 'not', 'billy', 'i', 'know', 'what', 'you', 'are', 'doing', 'this', 'is', 'a', 'great', 'little', 'house', 'you', 'have', 'got', 'here', 'john', 'well', 'well', 'well', 'james', 'there', 'there', 'there', 'there', 'there', 'are', 'a', 'lot', 'of', 'reasons', 'not', 'to', 'do', 'this', 'there', 'are', '101', 'reasons', 'not', 'to', 'do', 'it', '1000000', 'reasons', 'actually', 'i', 'have', 'to', 'go', 'get', '2', 'tutus', 'from', '2', 'different', 'stores', 'too', '22', '45', '1067', '445', 'here', 'is', 'some', 'stuff', 'inside', 'of', 'double', 'curly', 'braces', 'here', 'is', 'more', 'stuff', 'in', 'single', 'curly', 'braces']\n"
     ]
    }
   ],
   "source": [
    "words = remove_punctuation(words)\n",
    "print(words)"
   ]
  },
  {
   "cell_type": "markdown",
   "id": "efee7b07",
   "metadata": {},
   "source": [
    "# convert  all interger into text  data"
   ]
  },
  {
   "cell_type": "code",
   "execution_count": 18,
   "id": "9a20f4f9",
   "metadata": {},
   "outputs": [],
   "source": [
    "def replace_numbers(words):\n",
    "    \"\"\"Replace all interger occurrences in list of tokenized words with textual representation\"\"\"\n",
    "    p = inflect.engine()\n",
    "    new_words = []\n",
    "    for word in words:\n",
    "        if word.isdigit():\n",
    "            new_word = p.number_to_words(word)\n",
    "            new_words.append(new_word)\n",
    "        else:\n",
    "            new_words.append(word)\n",
    "    return new_words"
   ]
  },
  {
   "cell_type": "code",
   "execution_count": 19,
   "id": "b5b35077",
   "metadata": {},
   "outputs": [
    {
     "name": "stdout",
     "output_type": "stream",
     "text": [
      "['title', 'goes', 'here', 'bolded', 'text', 'italicized', 'text', 'but', 'this', 'will', 'still', 'be', 'here', 'i', 'run', 'he', 'ran', 'she', 'is', 'running', 'will', 'they', 'stop', 'running', 'i', 'talked', 'she', 'was', 'talking', 'they', 'talked', 'to', 'them', 'about', 'running', 'who', 'ran', 'to', 'the', 'talking', 'runner', 'sebastian', 'nicolas', 'alejandro', 'and', 'jeronimo', 'are', 'going', 'to', 'the', 'store', 'tomorrow', 'morning', 'something', 'is', 'wrong', 'with', 'this', 'sentence', 'i', 'can', 'not', 'do', 'this', 'anymore', 'i', 'did', 'not', 'know', 'them', 'why', 'could', 'not', 'you', 'have', 'dinner', 'at', 'the', 'restaurant', 'my', 'favorite', 'movie', 'franchises', 'in', 'order', 'indiana', 'jones', 'marvel', 'cinematic', 'universe', 'star', 'wars', 'back', 'to', 'the', 'future', 'harry', 'potter', 'do', 'not', 'do', 'it', 'just', 'do', 'not', 'billy', 'i', 'know', 'what', 'you', 'are', 'doing', 'this', 'is', 'a', 'great', 'little', 'house', 'you', 'have', 'got', 'here', 'john', 'well', 'well', 'well', 'james', 'there', 'there', 'there', 'there', 'there', 'are', 'a', 'lot', 'of', 'reasons', 'not', 'to', 'do', 'this', 'there', 'are', 'one hundred and one', 'reasons', 'not', 'to', 'do', 'it', 'one million', 'reasons', 'actually', 'i', 'have', 'to', 'go', 'get', 'two', 'tutus', 'from', 'two', 'different', 'stores', 'too', 'twenty-two', 'forty-five', 'one thousand and sixty-seven', 'four hundred and forty-five', 'here', 'is', 'some', 'stuff', 'inside', 'of', 'double', 'curly', 'braces', 'here', 'is', 'more', 'stuff', 'in', 'single', 'curly', 'braces']\n"
     ]
    }
   ],
   "source": [
    "words = replace_numbers(words)\n",
    "print(words)"
   ]
  },
  {
   "cell_type": "markdown",
   "id": "60a64e2e",
   "metadata": {},
   "source": [
    "# remove stopwords"
   ]
  },
  {
   "cell_type": "code",
   "execution_count": 20,
   "id": "f23e94eb",
   "metadata": {},
   "outputs": [],
   "source": [
    "def remove_stopwords(words):\n",
    "    \"\"\"Remove stop words from list of tokenized words\"\"\"\n",
    "    new_words = []\n",
    "    for word in words:\n",
    "        if word not in stopwords.words('english'):\n",
    "            new_words.append(word)\n",
    "    return new_words"
   ]
  },
  {
   "cell_type": "code",
   "execution_count": 21,
   "id": "a401dcee",
   "metadata": {},
   "outputs": [
    {
     "name": "stdout",
     "output_type": "stream",
     "text": [
      "['title', 'goes', 'bolded', 'text', 'italicized', 'text', 'still', 'run', 'ran', 'running', 'stop', 'running', 'talked', 'talking', 'talked', 'running', 'ran', 'talking', 'runner', 'sebastian', 'nicolas', 'alejandro', 'jeronimo', 'going', 'store', 'tomorrow', 'morning', 'something', 'wrong', 'sentence', 'anymore', 'know', 'could', 'dinner', 'restaurant', 'favorite', 'movie', 'franchises', 'order', 'indiana', 'jones', 'marvel', 'cinematic', 'universe', 'star', 'wars', 'back', 'future', 'harry', 'potter', 'billy', 'know', 'great', 'little', 'house', 'got', 'john', 'well', 'well', 'well', 'james', 'lot', 'reasons', 'one hundred and one', 'reasons', 'one million', 'reasons', 'actually', 'go', 'get', 'two', 'tutus', 'two', 'different', 'stores', 'twenty-two', 'forty-five', 'one thousand and sixty-seven', 'four hundred and forty-five', 'stuff', 'inside', 'double', 'curly', 'braces', 'stuff', 'single', 'curly', 'braces']\n"
     ]
    }
   ],
   "source": [
    "words = remove_stopwords(words)\n",
    "print(words)"
   ]
  },
  {
   "cell_type": "markdown",
   "id": "f3d19798",
   "metadata": {},
   "source": [
    "# lemmatization"
   ]
  },
  {
   "cell_type": "code",
   "execution_count": 22,
   "id": "089546e4",
   "metadata": {},
   "outputs": [],
   "source": [
    "def lemmatize_verbs(words):\n",
    "    \"\"\"Lemmatize verbs in list of tokenized words\"\"\"\n",
    "    lemmatizer = WordNetLemmatizer()\n",
    "    lemmas = []\n",
    "    for word in words:\n",
    "        lemma = lemmatizer.lemmatize(word, pos='v')\n",
    "        lemmas.append(lemma)\n",
    "    return lemmas"
   ]
  },
  {
   "cell_type": "code",
   "execution_count": 23,
   "id": "3a66f41f",
   "metadata": {},
   "outputs": [
    {
     "name": "stdout",
     "output_type": "stream",
     "text": [
      "['title', 'go', 'bolded', 'text', 'italicize', 'text', 'still', 'run', 'run', 'run', 'stop', 'run', 'talk', 'talk', 'talk', 'run', 'run', 'talk', 'runner', 'sebastian', 'nicolas', 'alejandro', 'jeronimo', 'go', 'store', 'tomorrow', 'morning', 'something', 'wrong', 'sentence', 'anymore', 'know', 'could', 'dinner', 'restaurant', 'favorite', 'movie', 'franchise', 'order', 'indiana', 'jones', 'marvel', 'cinematic', 'universe', 'star', 'war', 'back', 'future', 'harry', 'potter', 'billy', 'know', 'great', 'little', 'house', 'get', 'john', 'well', 'well', 'well', 'jam', 'lot', 'reason', 'one hundred and one', 'reason', 'one million', 'reason', 'actually', 'go', 'get', 'two', 'tutus', 'two', 'different', 'store', 'twenty-two', 'forty-five', 'one thousand and sixty-seven', 'four hundred and forty-five', 'stuff', 'inside', 'double', 'curly', 'brace', 'stuff', 'single', 'curly', 'brace']\n"
     ]
    }
   ],
   "source": [
    "words = lemmatize_verbs(words)\n",
    "print(words)"
   ]
  },
  {
   "cell_type": "markdown",
   "id": "0a982e4f",
   "metadata": {},
   "source": [
    "# compering data stemming and lemmatizing"
   ]
  },
  {
   "cell_type": "code",
   "execution_count": 24,
   "id": "47d121bc",
   "metadata": {},
   "outputs": [],
   "source": [
    "def stem_words(words):\n",
    "    \"\"\"Stem words in list of tokenized words\"\"\"\n",
    "    stemmer = LancasterStemmer()\n",
    "    stems = []\n",
    "    for word in words:\n",
    "        stem = stemmer.stem(word)\n",
    "        stems.append(stem)\n",
    "    return stems\n"
   ]
  },
  {
   "cell_type": "code",
   "execution_count": 25,
   "id": "9db07c5e",
   "metadata": {},
   "outputs": [
    {
     "name": "stdout",
     "output_type": "stream",
     "text": [
      "Stemmed:\n",
      " ['titl', 'go', 'bold', 'text', 'it', 'text', 'stil', 'run', 'run', 'run', 'stop', 'run', 'talk', 'talk', 'talk', 'run', 'run', 'talk', 'run', 'sebast', 'nicola', 'alejandro', 'jeronimo', 'go', 'stor', 'tomorrow', 'morn', 'someth', 'wrong', 'sent', 'anym', 'know', 'could', 'din', 'resta', 'favorit', 'movy', 'franch', 'ord', 'indian', 'jon', 'marvel', 'cinem', 'univers', 'star', 'war', 'back', 'fut', 'harry', 'pot', 'bil', 'know', 'gre', 'littl', 'hous', 'get', 'john', 'wel', 'wel', 'wel', 'jam', 'lot', 'reason', 'one hundred and on', 'reason', 'one million', 'reason', 'act', 'go', 'get', 'two', 'tut', 'two', 'diff', 'stor', 'twenty-two', 'forty-five', 'one thousand and sixty-seven', 'four hundred and forty-five', 'stuff', 'insid', 'doubl', 'cur', 'brac', 'stuff', 'singl', 'cur', 'brac']\n",
      "\n",
      "Lemmatized:\n",
      " ['title', 'go', 'bolded', 'text', 'italicize', 'text', 'still', 'run', 'run', 'run', 'stop', 'run', 'talk', 'talk', 'talk', 'run', 'run', 'talk', 'runner', 'sebastian', 'nicolas', 'alejandro', 'jeronimo', 'go', 'store', 'tomorrow', 'morning', 'something', 'wrong', 'sentence', 'anymore', 'know', 'could', 'dinner', 'restaurant', 'favorite', 'movie', 'franchise', 'order', 'indiana', 'jones', 'marvel', 'cinematic', 'universe', 'star', 'war', 'back', 'future', 'harry', 'potter', 'billy', 'know', 'great', 'little', 'house', 'get', 'john', 'well', 'well', 'well', 'jam', 'lot', 'reason', 'one hundred and one', 'reason', 'one million', 'reason', 'actually', 'go', 'get', 'two', 'tutus', 'two', 'different', 'store', 'twenty-two', 'forty-five', 'one thousand and sixty-seven', 'four hundred and forty-five', 'stuff', 'inside', 'double', 'curly', 'brace', 'stuff', 'single', 'curly', 'brace']\n"
     ]
    }
   ],
   "source": [
    "def stem_and_lemmatize(words):\n",
    "    stems = stem_words(words)\n",
    "    lemmas = lemmatize_verbs(words)\n",
    "    return stems, lemmas\n",
    "\n",
    "stems, lemmas = stem_and_lemmatize(words)\n",
    "print('Stemmed:\\n', stems)\n",
    "print('\\nLemmatized:\\n', lemmas)"
   ]
  },
  {
   "cell_type": "code",
   "execution_count": null,
   "id": "7acecd18",
   "metadata": {},
   "outputs": [],
   "source": []
  }
 ],
 "metadata": {
  "kernelspec": {
   "display_name": "Python 3 (ipykernel)",
   "language": "python",
   "name": "python3"
  },
  "language_info": {
   "codemirror_mode": {
    "name": "ipython",
    "version": 3
   },
   "file_extension": ".py",
   "mimetype": "text/x-python",
   "name": "python",
   "nbconvert_exporter": "python",
   "pygments_lexer": "ipython3",
   "version": "3.9.7"
  }
 },
 "nbformat": 4,
 "nbformat_minor": 5
}
