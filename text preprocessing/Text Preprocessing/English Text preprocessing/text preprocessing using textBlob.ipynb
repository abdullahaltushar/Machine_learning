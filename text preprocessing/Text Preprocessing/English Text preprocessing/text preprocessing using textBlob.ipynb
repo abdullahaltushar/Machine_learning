{
 "cells": [
  {
   "cell_type": "code",
   "execution_count": 1,
   "id": "dfbc7008",
   "metadata": {},
   "outputs": [],
   "source": [
    "from textblob import TextBlob"
   ]
  },
  {
   "cell_type": "code",
   "execution_count": 2,
   "id": "269ffd7b",
   "metadata": {},
   "outputs": [],
   "source": [
    "wiki=TextBlob(\"Python is a high lavel language , General purpose programming language\")"
   ]
  },
  {
   "cell_type": "markdown",
   "id": "c180aa2d",
   "metadata": {},
   "source": [
    "# part of speech tag"
   ]
  },
  {
   "cell_type": "code",
   "execution_count": 3,
   "id": "d7465745",
   "metadata": {},
   "outputs": [
    {
     "data": {
      "text/plain": [
       "[('Python', 'NNP'),\n",
       " ('is', 'VBZ'),\n",
       " ('a', 'DT'),\n",
       " ('high', 'JJ'),\n",
       " ('lavel', 'NN'),\n",
       " ('language', 'NN'),\n",
       " ('General', 'NNP'),\n",
       " ('purpose', 'VBD'),\n",
       " ('programming', 'JJ'),\n",
       " ('language', 'NN')]"
      ]
     },
     "execution_count": 3,
     "metadata": {},
     "output_type": "execute_result"
    }
   ],
   "source": [
    "wiki.tags"
   ]
  },
  {
   "cell_type": "markdown",
   "id": "167e56fb",
   "metadata": {},
   "source": [
    "# sentiment "
   ]
  },
  {
   "cell_type": "code",
   "execution_count": 4,
   "id": "0c49bbda",
   "metadata": {},
   "outputs": [
    {
     "data": {
      "text/plain": [
       "Sentiment(polarity=0.10500000000000001, subjectivity=0.52)"
      ]
     },
     "execution_count": 4,
     "metadata": {},
     "output_type": "execute_result"
    }
   ],
   "source": [
    "wiki.sentiment"
   ]
  },
  {
   "cell_type": "code",
   "execution_count": 5,
   "id": "ee1b45ba",
   "metadata": {},
   "outputs": [
    {
     "data": {
      "text/plain": [
       "0.10500000000000001"
      ]
     },
     "execution_count": 5,
     "metadata": {},
     "output_type": "execute_result"
    }
   ],
   "source": [
    "wiki.sentiment.polarity"
   ]
  },
  {
   "cell_type": "markdown",
   "id": "915a5885",
   "metadata": {},
   "source": [
    "# tokenization"
   ]
  },
  {
   "cell_type": "code",
   "execution_count": 6,
   "id": "0656eb81",
   "metadata": {},
   "outputs": [
    {
     "data": {
      "text/plain": [
       "WordList(['Beautiful', 'is', 'better', 'than', 'ugly', 'Explicit', 'is', 'better', 'than', 'implicit', 'Simple', 'is', 'better', 'than', 'complex'])"
      ]
     },
     "execution_count": 6,
     "metadata": {},
     "output_type": "execute_result"
    }
   ],
   "source": [
    "zen=TextBlob(\"Beautiful is better than ugly. Explicit is better than implicit. Simple is better than complex.\")\n",
    "zen.words"
   ]
  },
  {
   "cell_type": "code",
   "execution_count": 7,
   "id": "7ed7a72a",
   "metadata": {},
   "outputs": [
    {
     "data": {
      "text/plain": [
       "[Sentence(\"Beautiful is better than ugly.\"),\n",
       " Sentence(\"Explicit is better than implicit.\"),\n",
       " Sentence(\"Simple is better than complex.\")]"
      ]
     },
     "execution_count": 7,
     "metadata": {},
     "output_type": "execute_result"
    }
   ],
   "source": [
    "zen.sentences"
   ]
  },
  {
   "cell_type": "code",
   "execution_count": 8,
   "id": "07e64493",
   "metadata": {},
   "outputs": [
    {
     "name": "stdout",
     "output_type": "stream",
     "text": [
      "Sentiment(polarity=0.2166666666666667, subjectivity=0.8333333333333334)\n",
      "Sentiment(polarity=0.5, subjectivity=0.5)\n",
      "Sentiment(polarity=0.06666666666666667, subjectivity=0.41904761904761906)\n"
     ]
    }
   ],
   "source": [
    "for sentiment in zen.sentences:\n",
    "    print(sentiment.sentiment)"
   ]
  },
  {
   "cell_type": "markdown",
   "id": "10660924",
   "metadata": {},
   "source": [
    "# Words Inflection and Lemmatization"
   ]
  },
  {
   "cell_type": "code",
   "execution_count": 9,
   "id": "2de814f0",
   "metadata": {},
   "outputs": [
    {
     "data": {
      "text/plain": [
       "WordList(['Beautiful', 'is', 'better', 'than', 'ugly'])"
      ]
     },
     "execution_count": 9,
     "metadata": {},
     "output_type": "execute_result"
    }
   ],
   "source": [
    "sentence=TextBlob(\"Beautiful is better than ugly \")\n",
    "sentence.words\n"
   ]
  },
  {
   "cell_type": "code",
   "execution_count": 10,
   "id": "b5d3d771",
   "metadata": {},
   "outputs": [
    {
     "data": {
      "text/plain": [
       "WordList(['Beautiful', 'is', 'better', 'than', 'ugly'])"
      ]
     },
     "execution_count": 10,
     "metadata": {},
     "output_type": "execute_result"
    }
   ],
   "source": [
    "sentence.words.singularize()"
   ]
  },
  {
   "cell_type": "code",
   "execution_count": 11,
   "id": "b2aac78a",
   "metadata": {},
   "outputs": [
    {
     "data": {
      "text/plain": [
       "WordList(['Beautifuls', 'iss', 'betters', 'thans', 'uglies'])"
      ]
     },
     "execution_count": 11,
     "metadata": {},
     "output_type": "execute_result"
    }
   ],
   "source": [
    "sentence.words.pluralize()"
   ]
  },
  {
   "cell_type": "code",
   "execution_count": 12,
   "id": "4139dd99",
   "metadata": {},
   "outputs": [
    {
     "data": {
      "text/plain": [
       "TextBlob(\"Beautiful is better than ugly \")"
      ]
     },
     "execution_count": 12,
     "metadata": {},
     "output_type": "execute_result"
    }
   ],
   "source": [
    "from textblob import Word\n",
    "sentence=Word(sentence)\n",
    "sentence.lemmatize()"
   ]
  },
  {
   "cell_type": "markdown",
   "id": "fd141b1e",
   "metadata": {},
   "source": [
    "# Spelling Correction"
   ]
  },
  {
   "cell_type": "code",
   "execution_count": 13,
   "id": "d4894ca4",
   "metadata": {},
   "outputs": [
    {
     "name": "stdout",
     "output_type": "stream",
     "text": [
      "I have done the work\n"
     ]
    }
   ],
   "source": [
    "b=TextBlob(\"I hovv done the work\")\n",
    "print(b.correct())"
   ]
  },
  {
   "cell_type": "code",
   "execution_count": 14,
   "id": "2c4b11a4",
   "metadata": {},
   "outputs": [
    {
     "data": {
      "text/plain": [
       "[('have', 1.0)]"
      ]
     },
     "execution_count": 14,
     "metadata": {},
     "output_type": "execute_result"
    }
   ],
   "source": [
    "b= Word(\"havv\")\n",
    "b.spellcheck()"
   ]
  },
  {
   "cell_type": "code",
   "execution_count": 15,
   "id": "f0eeef29",
   "metadata": {},
   "outputs": [
    {
     "data": {
      "text/plain": [
       "2"
      ]
     },
     "execution_count": 15,
     "metadata": {},
     "output_type": "execute_result"
    }
   ],
   "source": [
    "monty = TextBlob(\"We are no longer the Knights who say Ni. We are now the Knights who say Ekki ekki ekki PTANG.\")\n",
    "monty.words.count(\"we\")"
   ]
  },
  {
   "cell_type": "code",
   "execution_count": 16,
   "id": "6fa27ce3",
   "metadata": {},
   "outputs": [
    {
     "data": {
      "text/plain": [
       "2"
      ]
     },
     "execution_count": 16,
     "metadata": {},
     "output_type": "execute_result"
    }
   ],
   "source": [
    "monty.word_counts[\"are\"]"
   ]
  },
  {
   "cell_type": "code",
   "execution_count": 17,
   "id": "ccb084ba",
   "metadata": {},
   "outputs": [
    {
     "data": {
      "text/plain": [
       "2"
      ]
     },
     "execution_count": 17,
     "metadata": {},
     "output_type": "execute_result"
    }
   ],
   "source": [
    "monty.words.count(\"ekki\", case_sensitive=True)"
   ]
  },
  {
   "cell_type": "code",
   "execution_count": 18,
   "id": "cf9fbfec",
   "metadata": {},
   "outputs": [],
   "source": [
    "t=TextBlob(\"Bangladesh is a small country\")"
   ]
  },
  {
   "cell_type": "code",
   "execution_count": 19,
   "id": "9d41915a",
   "metadata": {},
   "outputs": [
    {
     "name": "stdout",
     "output_type": "stream",
     "text": [
      "Bangladesh NNP\n",
      "is VBZ\n",
      "a DT\n",
      "small JJ\n",
      "country NN\n"
     ]
    }
   ],
   "source": [
    "for words, tag in t.tags:\n",
    "    print (words, tag)"
   ]
  },
  {
   "cell_type": "code",
   "execution_count": 20,
   "id": "64759ff5",
   "metadata": {},
   "outputs": [
    {
     "data": {
      "text/plain": [
       "'We/PRP/B-NP/O are/VBP/B-VP/O no/DT/O/O longer/RB/B-ADVP/O the/DT/B-NP/O Knights/NNP/I-NP/O who/WP/O/O say/VBP/B-VP/O Ni/NNP/B-NP/O ././O/O\\nWe/PRP/B-NP/O are/VBP/B-VP/O now/RB/B-ADVP/O the/DT/B-NP/O Knights/NNP/I-NP/O who/WP/O/O say/VBP/B-VP/O Ekki/NNP/B-NP/O ekki/NN/I-NP/O ekki/NN/I-NP/O PTANG/NN/I-NP/O ././O/O'"
      ]
     },
     "execution_count": 20,
     "metadata": {},
     "output_type": "execute_result"
    }
   ],
   "source": [
    "monty.parse()"
   ]
  },
  {
   "cell_type": "code",
   "execution_count": 21,
   "id": "d70506c8",
   "metadata": {},
   "outputs": [
    {
     "data": {
      "text/plain": [
       "TextBlob(\"BEAUTIFUL IS BETTER THAN UGLY. EXPLICIT IS BETTER THAN IMPLICIT. SIMPLE IS BETTER THAN COMPLEX.\")"
      ]
     },
     "execution_count": 21,
     "metadata": {},
     "output_type": "execute_result"
    }
   ],
   "source": [
    "zen.upper()"
   ]
  },
  {
   "cell_type": "code",
   "execution_count": 22,
   "id": "18498642",
   "metadata": {},
   "outputs": [
    {
     "data": {
      "text/plain": [
       "65"
      ]
     },
     "execution_count": 22,
     "metadata": {},
     "output_type": "execute_result"
    }
   ],
   "source": [
    "zen.find(\"Simple\")"
   ]
  },
  {
   "cell_type": "code",
   "execution_count": 23,
   "id": "44b25f2b",
   "metadata": {},
   "outputs": [
    {
     "data": {
      "text/plain": [
       "True"
      ]
     },
     "execution_count": 23,
     "metadata": {},
     "output_type": "execute_result"
    }
   ],
   "source": [
    "apple=\"apple\"\n",
    "banana=\"banana\"\n",
    "\n",
    "apple<banana"
   ]
  },
  {
   "cell_type": "code",
   "execution_count": 24,
   "id": "f3596ced",
   "metadata": {},
   "outputs": [
    {
     "data": {
      "text/plain": [
       "False"
      ]
     },
     "execution_count": 24,
     "metadata": {},
     "output_type": "execute_result"
    }
   ],
   "source": [
    "apple>banana"
   ]
  },
  {
   "cell_type": "code",
   "execution_count": 25,
   "id": "2c7a3ca9",
   "metadata": {},
   "outputs": [
    {
     "data": {
      "text/plain": [
       "True"
      ]
     },
     "execution_count": 25,
     "metadata": {},
     "output_type": "execute_result"
    }
   ],
   "source": [
    "apple==\"apple\""
   ]
  },
  {
   "cell_type": "code",
   "execution_count": 26,
   "id": "7759ac2e",
   "metadata": {},
   "outputs": [
    {
     "data": {
      "text/plain": [
       "'apple and bananaare common fruits'"
      ]
     },
     "execution_count": 26,
     "metadata": {},
     "output_type": "execute_result"
    }
   ],
   "source": [
    "apple+ ' and ' +banana+ 'are common fruits'"
   ]
  },
  {
   "cell_type": "markdown",
   "id": "24d1cd06",
   "metadata": {},
   "source": [
    "# ngrams"
   ]
  },
  {
   "cell_type": "code",
   "execution_count": 27,
   "id": "3519e6de",
   "metadata": {},
   "outputs": [
    {
     "data": {
      "text/plain": [
       "[WordList(['Now', 'is', 'better']),\n",
       " WordList(['is', 'better', 'than']),\n",
       " WordList(['better', 'than', 'never'])]"
      ]
     },
     "execution_count": 27,
     "metadata": {},
     "output_type": "execute_result"
    }
   ],
   "source": [
    "blob = TextBlob(\"Now is better than never.\")\n",
    "blob.ngrams(n=3) "
   ]
  },
  {
   "cell_type": "code",
   "execution_count": 28,
   "id": "28d0c2ae",
   "metadata": {},
   "outputs": [
    {
     "name": "stdout",
     "output_type": "stream",
     "text": [
      "hi how are you\n",
      "\n",
      "how you doing how was your day\n"
     ]
    }
   ],
   "source": [
    "import re\n",
    "text = \"hi how are you\\n\\nhow you doing\\nhow was your day\"\n",
    "print(re.sub(r'(?<!\\n)\\n(?!\\n)', ' ', text))"
   ]
  },
  {
   "cell_type": "code",
   "execution_count": 30,
   "id": "9a6d199a",
   "metadata": {},
   "outputs": [
    {
     "data": {
      "text/plain": [
       "['better', 'good']"
      ]
     },
     "execution_count": 30,
     "metadata": {},
     "output_type": "execute_result"
    }
   ],
   "source": [
    "import wordninja\n",
    "wordninja.split('bettergood')"
   ]
  },
  {
   "cell_type": "code",
   "execution_count": null,
   "id": "ce1b5ef3",
   "metadata": {},
   "outputs": [],
   "source": []
  }
 ],
 "metadata": {
  "kernelspec": {
   "display_name": "Python 3 (ipykernel)",
   "language": "python",
   "name": "python3"
  },
  "language_info": {
   "codemirror_mode": {
    "name": "ipython",
    "version": 3
   },
   "file_extension": ".py",
   "mimetype": "text/x-python",
   "name": "python",
   "nbconvert_exporter": "python",
   "pygments_lexer": "ipython3",
   "version": "3.9.7"
  }
 },
 "nbformat": 4,
 "nbformat_minor": 5
}
