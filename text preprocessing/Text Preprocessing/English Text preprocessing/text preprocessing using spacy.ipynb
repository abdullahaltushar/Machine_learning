{
 "cells": [
  {
   "cell_type": "code",
   "execution_count": 1,
   "id": "ea7f4bf3",
   "metadata": {},
   "outputs": [
    {
     "name": "stdout",
     "output_type": "stream",
     "text": [
      "['Embracing', 'and', 'analyzing', 'self', 'failures', '(', 'of', 'however', 'multitude', ')', 'is', 'a', 'virtue', 'of', 'nobelmen', '.']\n"
     ]
    }
   ],
   "source": [
    "import spacy\n",
    "\n",
    "#instantiating English module\n",
    "nlp = spacy.load(\"en_core_web_sm\")\n",
    "\n",
    "#sample\n",
    "x = \"Embracing and analyzing self failures (of however multitude) is a virtue of nobelmen.\"\n",
    "\n",
    "#creating doc object containing our token features\n",
    "doc = nlp(x)\n",
    "\n",
    "#Creating and updating our list of tokens using list comprehension \n",
    "tokens = [token.text for token in doc]\n",
    "print(tokens)"
   ]
  },
  {
   "cell_type": "code",
   "execution_count": 2,
   "id": "a9060f3d",
   "metadata": {},
   "outputs": [
    {
     "name": "stdout",
     "output_type": "stream",
     "text": [
      "[Embracing and analyzing self failures (of however multitude) is a virtue of nobelmen., And nobility is a treasure few possess.]\n"
     ]
    }
   ],
   "source": [
    "nlp = spacy.load(\"en_core_web_sm\")\n",
    "\n",
    "#Creating the pipeline 'sentencizer' component\n",
    "#sbd = nlp.create_pipe('sentencizer')\n",
    "\n",
    "#Adding the component to the pipeline\n",
    "nlp.create_pipe('sentencizer')\n",
    "\n",
    "x = \"Embracing and analyzing self failures (of however multitude) is a virtue of nobelmen. And nobility is a treasure few possess.\"\n",
    "\n",
    "#creating doc object carring our sentence tokens\n",
    "doc = nlp(x)\n",
    "\n",
    "#Creating and updating our list of tokens using list comprehension \n",
    "tokens = [token for token in doc.sents]\n",
    "print(tokens)"
   ]
  },
  {
   "cell_type": "code",
   "execution_count": 3,
   "id": "5b40c6de",
   "metadata": {},
   "outputs": [
    {
     "name": "stdout",
     "output_type": "stream",
     "text": [
      "[['Embracing', 'embrace'], ['and', 'and'], ['analyzing', 'analyze'], ['self', 'self'], ['failures', 'failure'], ['(', '('], ['of', 'of'], ['however', 'however'], ['multitude', 'multitude'], [')', ')'], ['is', 'be'], ['a', 'a'], ['virtue', 'virtue'], ['of', 'of'], ['nobelmen', 'nobelman'], ['.', '.'], ['And', 'and'], ['nobility', 'nobility'], ['is', 'be'], ['a', 'a'], ['treasure', 'treasure'], ['few', 'few'], ['possess', 'possess'], ['.', '.']]\n"
     ]
    }
   ],
   "source": [
    "import spacy\n",
    "\n",
    "#instantiating English module\n",
    "\n",
    "#sample\n",
    "\n",
    "#creating doc object containing our token features\n",
    "doc = nlp(x)\n",
    "\n",
    "#Creating and updating our list of tokens using list comprehension \n",
    "tokens = [[token.text,token.lemma_] for token in doc]\n",
    "print(tokens)"
   ]
  },
  {
   "cell_type": "code",
   "execution_count": 4,
   "id": "b78f048b",
   "metadata": {},
   "outputs": [
    {
     "name": "stdout",
     "output_type": "stream",
     "text": [
      "{'along', 'get', '’d', 'next', 'sometime', 'back', 'have', 'was', 'not', 'hereafter', 'are', 'fifty', 'but', 'down', 'himself', 'ever', 'becoming', 'for', 'make', 'above', 'thru', 'had', 'three', 'without', 'do', 'his', 'amount', 'up', 'some', 'last', 'anyhow', 'behind', 'must', 'against', 'whose', 'hereupon', 'what', 'move', 'them', 'often', 'on', 'sixty', 'whereafter', 'see', 'side', 'latter', 'meanwhile', 'herein', 'while', 'bottom', 'quite', 'too', '‘d', 'will', 'before', 'sometimes', 'into', 'formerly', 'were', 'many', 'both', 'my', 'become', 'toward', 'whole', 'however', 'nothing', 'using', 'been', 'latterly', 'hers', 'noone', 'due', 'the', 'ten', 'doing', 'well', 'how', 'has', 'so', 'this', 'always', 'via', 'used', 'made', 'same', 'eleven', 'again', 'an', 'five', '‘ve', 'whether', 'does', 'mostly', 'as', 'somewhere', 'wherein', 'one', 'therein', 'fifteen', 'in', 'already', 'out', 'part', 'yourself', 'he', 'full', 'several', 'every', 'of', 'throughout', 'who', 'once', \"'s\", 'yet', 'front', 'seems', '‘ll', 'thereupon', 'whoever', 'when', 'all', 'whereby', 'nine', 'although', 'those', 'became', 'her', 'hundred', 'off', 'you', 'first', 'eight', 'there', 'regarding', 'anyone', '‘m', '’m', 'elsewhere', 'n‘t', 'ourselves', 'or', 'to', 'we', 'besides', 'thereby', 'third', 'beforehand', 'whence', 'any', 'less', 'otherwise', 'though', 'through', 'four', 'another', 'own', 'whom', 'whereas', \"'re\", 'top', 'would', 'least', 'only', 're', 'why', 'should', 'between', '’ve', 'say', 'former', 'mine', 'twelve', 'its', 'else', 'together', 'unless', 'at', 'something', 'these', 'someone', 'alone', 'further', 'even', 'empty', 'across', '‘re', '‘s', 'each', 'him', 'also', \"n't\", 'they', 'per', 'amongst', 'it', 'over', 'name', 'everywhere', 'then', '’s', 'nor', 'indeed', 'anyway', 'being', 'serious', 'themselves', 'others', 'our', 'call', 'moreover', 'during', 'under', 'ours', 'rather', 'may', 'i', 'whenever', 'beyond', 'twenty', 'therefore', 'no', 'beside', 'is', 'few', 'various', 'almost', 'put', 'somehow', 'yours', 'after', 'six', 'which', 'nevertheless', 'except', 'because', \"'m\", 'whereupon', \"'d\", 'with', 'about', 'done', 'than', '’re', 'itself', 'myself', 'thus', 'perhaps', 'forty', 'either', 'from', 'here', 'nobody', 'none', 'did', 'whatever', 'until', 'towards', '’ll', 'namely', 'please', 'am', 'thereafter', 'yourselves', 'be', 'more', 'much', 'most', 'take', 'thence', 'give', 'among', 'herself', 'hence', 'keep', 'just', 'everything', 'onto', 'very', 'still', 'could', 'she', 'their', 'n’t', 'afterwards', 'nowhere', 'by', 'seemed', \"'ll\", 'around', 'whither', 'if', 'might', 'us', 'really', 'anywhere', 'becomes', 'everyone', 'where', 'other', 'a', 'enough', 'seem', 'me', 'hereby', 'show', \"'ve\", 'such', 'within', 'ca', 'wherever', 'cannot', 'below', 'since', 'now', 'upon', 'seeming', 'your', 'never', 'go', 'two', 'can', 'neither', 'that', 'and', 'anything'}\n"
     ]
    }
   ],
   "source": [
    "from spacy.lang.en.stop_words import STOP_WORDS\n",
    "stop = STOP_WORDS\n",
    "print(stop)"
   ]
  },
  {
   "cell_type": "code",
   "execution_count": 5,
   "id": "a1919f8b",
   "metadata": {},
   "outputs": [
    {
     "name": "stdout",
     "output_type": "stream",
     "text": [
      "['Embracing', 'analyzing', 'self', 'failures', '(', 'multitude', ')', 'virtue', 'nobelmen', '.', 'nobility', 'treasure', 'possess', '.']\n"
     ]
    }
   ],
   "source": [
    "filtered = [token.text for token in doc if token.is_stop == False]\n",
    "print(filtered)"
   ]
  },
  {
   "cell_type": "code",
   "execution_count": 6,
   "id": "1bfe4235",
   "metadata": {},
   "outputs": [
    {
     "name": "stdout",
     "output_type": "stream",
     "text": [
      "[['Embracing', 'VERB'], ['and', 'CCONJ'], ['analyzing', 'VERB'], ['self', 'NOUN'], ['failures', 'NOUN'], ['(', 'PUNCT'], ['of', 'ADP'], ['however', 'ADV'], ['multitude', 'NOUN'], [')', 'PUNCT'], ['is', 'AUX'], ['a', 'DET'], ['virtue', 'NOUN'], ['of', 'ADP'], ['nobelmen', 'NOUN'], ['.', 'PUNCT'], ['And', 'CCONJ'], ['nobility', 'NOUN'], ['is', 'AUX'], ['a', 'DET'], ['treasure', 'NOUN'], ['few', 'ADJ'], ['possess', 'NOUN'], ['.', 'PUNCT']]\n"
     ]
    }
   ],
   "source": [
    "pos = [[token.text,token.pos_] for token in doc]\n",
    "print (pos)"
   ]
  },
  {
   "cell_type": "code",
   "execution_count": 9,
   "id": "9b3b9bda",
   "metadata": {},
   "outputs": [
    {
     "name": "stdout",
     "output_type": "stream",
     "text": [
      "[(India, 'GPE', 384), (as much as, 'CARDINAL', 397), ($39 billion, 'MONEY', 394), (Asia, 'LOC', 385), (third, 'ORDINAL', 396)]\n"
     ]
    }
   ],
   "source": [
    "x = \"\"\"\"India is considering a proposal to guarantee as much as 3  \n",
    "trillion rupees ($39 billion) of loans to small businesses as part of a plan to \n",
    "restart Asia's third-largest economy, which is reeling under the impact of a 40-\n",
    "day lockdown, people with knowledge of the matter said.\"\"\"\n",
    "\n",
    "#creating doc object\n",
    "doc= nlp(x)\n",
    "\n",
    "\n",
    "#extracting entities \n",
    "entities=[(i, i.label_, i.label) for i in bloomberg.ents]\n",
    "print(entities)"
   ]
  },
  {
   "cell_type": "code",
   "execution_count": 16,
   "id": "83b8e2db",
   "metadata": {
    "scrolled": true
   },
   "outputs": [
    {
     "data": {
      "text/html": [
       "<span class=\"tex2jax_ignore\"><div class=\"entities\" style=\"line-height: 2.5; direction: ltr\">&quot;\n",
       "<mark class=\"entity\" style=\"background: #feca74; padding: 0.45em 0.6em; margin: 0 0.25em; line-height: 1; border-radius: 0.35em;\">\n",
       "    India\n",
       "    <span style=\"font-size: 0.8em; font-weight: bold; line-height: 1; border-radius: 0.35em; vertical-align: middle; margin-left: 0.5rem\">GPE</span>\n",
       "</mark>\n",
       " is considering a proposal to guarantee \n",
       "<mark class=\"entity\" style=\"background: #e4e7d2; padding: 0.45em 0.6em; margin: 0 0.25em; line-height: 1; border-radius: 0.35em;\">\n",
       "    as much as\n",
       "    <span style=\"font-size: 0.8em; font-weight: bold; line-height: 1; border-radius: 0.35em; vertical-align: middle; margin-left: 0.5rem\">CARDINAL</span>\n",
       "</mark>\n",
       " 3  </br>trillion rupees (\n",
       "<mark class=\"entity\" style=\"background: #e4e7d2; padding: 0.45em 0.6em; margin: 0 0.25em; line-height: 1; border-radius: 0.35em;\">\n",
       "    $39 billion\n",
       "    <span style=\"font-size: 0.8em; font-weight: bold; line-height: 1; border-radius: 0.35em; vertical-align: middle; margin-left: 0.5rem\">MONEY</span>\n",
       "</mark>\n",
       ") of loans to small businesses as part of a plan to </br>restart \n",
       "<mark class=\"entity\" style=\"background: #ff9561; padding: 0.45em 0.6em; margin: 0 0.25em; line-height: 1; border-radius: 0.35em;\">\n",
       "    Asia\n",
       "    <span style=\"font-size: 0.8em; font-weight: bold; line-height: 1; border-radius: 0.35em; vertical-align: middle; margin-left: 0.5rem\">LOC</span>\n",
       "</mark>\n",
       "'s \n",
       "<mark class=\"entity\" style=\"background: #e4e7d2; padding: 0.45em 0.6em; margin: 0 0.25em; line-height: 1; border-radius: 0.35em;\">\n",
       "    third\n",
       "    <span style=\"font-size: 0.8em; font-weight: bold; line-height: 1; border-radius: 0.35em; vertical-align: middle; margin-left: 0.5rem\">ORDINAL</span>\n",
       "</mark>\n",
       "-largest economy, which is reeling under the impact of a 40-</br>day lockdown, people with knowledge of the matter said.</div></span>"
      ],
      "text/plain": [
       "<IPython.core.display.HTML object>"
      ]
     },
     "metadata": {},
     "output_type": "display_data"
    }
   ],
   "source": [
    "from spacy import displacy\n",
    "displacy.render(bloomberg, style = \"ent\",jupyter = True)"
   ]
  },
  {
   "cell_type": "markdown",
   "id": "32eefde9",
   "metadata": {},
   "source": [
    "email separate"
   ]
  },
  {
   "cell_type": "code",
   "execution_count": 23,
   "id": "f2407f1e",
   "metadata": {},
   "outputs": [
    {
     "name": "stdout",
     "output_type": "stream",
     "text": [
      "koushiki@gmail.com\n",
      "gayathri1999@gmail.com\n",
      "ardra@gmail.com\n",
      "parmar15@yahoo.com\n",
      "shank@rediffmail.com\n",
      "utkarsh@gmail.com\n",
      "arman@gmail.com\n"
     ]
    }
   ],
   "source": [
    "# text containing employee details\n",
    "employee_text=\"\"\"name : Koushiki age: 45 email : koushiki@gmail.com\n",
    "                 name : Gayathri age: 34 email: gayathri1999@gmail.com\n",
    "                 name : Ardra age: 60 email : ardra@gmail.com\n",
    "                 name : pratham parmar age: 15 email : parmar15@yahoo.com\n",
    "                 name : Shashank age: 54 email: shank@rediffmail.com\n",
    "                 name : Utkarsh age: 46 email :utkarsh@gmail.com\n",
    "                 name : Arman age: 49 email :arman@gmail.com\"\"\"\n",
    "\n",
    "# creating a spacy doc          \n",
    "employee_doc=nlp(employee_text)\n",
    "\n",
    "# Printing the tokens which are email through `like_email` attribute\n",
    "for token in employee_doc:\n",
    "    if token.like_email:\n",
    "        print(token.text)"
   ]
  },
  {
   "cell_type": "code",
   "execution_count": null,
   "id": "85beb20d",
   "metadata": {},
   "outputs": [],
   "source": []
  }
 ],
 "metadata": {
  "kernelspec": {
   "display_name": "Python 3 (ipykernel)",
   "language": "python",
   "name": "python3"
  },
  "language_info": {
   "codemirror_mode": {
    "name": "ipython",
    "version": 3
   },
   "file_extension": ".py",
   "mimetype": "text/x-python",
   "name": "python",
   "nbconvert_exporter": "python",
   "pygments_lexer": "ipython3",
   "version": "3.9.7"
  }
 },
 "nbformat": 4,
 "nbformat_minor": 5
}
