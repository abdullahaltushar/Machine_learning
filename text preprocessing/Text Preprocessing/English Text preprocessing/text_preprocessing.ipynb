{
 "cells": [
  {
   "cell_type": "markdown",
   "id": "28b65c22",
   "metadata": {},
   "source": [
    "# Remove punctuation an symbols"
   ]
  },
  {
   "cell_type": "code",
   "execution_count": 1,
   "id": "4dca9f35",
   "metadata": {},
   "outputs": [
    {
     "name": "stdout",
     "output_type": "stream",
     "text": [
      "Requirement already satisfied: nltk in c:\\users\\administrator\\anaconda3\\lib\\site-packages (3.6.5)Note: you may need to restart the kernel to use updated packages.\n",
      "Requirement already satisfied: click in c:\\users\\administrator\\anaconda3\\lib\\site-packages (from nltk) (8.0.3)\n",
      "Requirement already satisfied: joblib in c:\\users\\administrator\\anaconda3\\lib\\site-packages (from nltk) (1.1.0)\n",
      "Requirement already satisfied: regex>=2021.8.3 in c:\\users\\administrator\\anaconda3\\lib\\site-packages (from nltk) (2021.8.3)\n",
      "Requirement already satisfied: tqdm in c:\\users\\administrator\\anaconda3\\lib\\site-packages (from nltk) (4.62.3)\n",
      "Requirement already satisfied: colorama in c:\\users\\administrator\\anaconda3\\lib\\site-packages (from click->nltk) (0.4.4)\n",
      "\n"
     ]
    }
   ],
   "source": [
    "pip install nltk"
   ]
  },
  {
   "cell_type": "code",
   "execution_count": 2,
   "id": "426cceb0",
   "metadata": {},
   "outputs": [],
   "source": [
    "punctuations='''!()-[]{};:'\"\\,<>./?@#$^&*_~'''"
   ]
  },
  {
   "cell_type": "code",
   "execution_count": null,
   "id": "d08af288",
   "metadata": {},
   "outputs": [],
   "source": []
  },
  {
   "cell_type": "code",
   "execution_count": 3,
   "id": "d7d7c8e3",
   "metadata": {},
   "outputs": [],
   "source": [
    "my_str=\"Hello!!, he said ---and went.\"\n",
    "\n",
    "\n",
    "#remove punctuation from the string\n",
    "no_punct=\"\"\n",
    "for char in my_str:\n",
    "    if(char not in punctuations):\n",
    "        no_punct= no_punct + char"
   ]
  },
  {
   "cell_type": "code",
   "execution_count": 4,
   "id": "7de6fab3",
   "metadata": {},
   "outputs": [
    {
     "data": {
      "text/plain": [
       "'Hello he said and went'"
      ]
     },
     "execution_count": 4,
     "metadata": {},
     "output_type": "execute_result"
    }
   ],
   "source": [
    "no_punct"
   ]
  },
  {
   "cell_type": "code",
   "execution_count": 5,
   "id": "d134892b",
   "metadata": {},
   "outputs": [],
   "source": [
    "#use regular expression"
   ]
  },
  {
   "cell_type": "code",
   "execution_count": 6,
   "id": "4c6e3445",
   "metadata": {},
   "outputs": [],
   "source": [
    "import re\n",
    "s= re.sub(r'[^\\w\\s]', '', my_str)"
   ]
  },
  {
   "cell_type": "code",
   "execution_count": 7,
   "id": "a580a23b",
   "metadata": {},
   "outputs": [
    {
     "data": {
      "text/plain": [
       "'Hello he said and went'"
      ]
     },
     "execution_count": 7,
     "metadata": {},
     "output_type": "execute_result"
    }
   ],
   "source": [
    "s"
   ]
  },
  {
   "cell_type": "markdown",
   "id": "b34c7d9c",
   "metadata": {},
   "source": [
    "# Tokenize the Sentence"
   ]
  },
  {
   "cell_type": "code",
   "execution_count": 8,
   "id": "271f0323",
   "metadata": {},
   "outputs": [],
   "source": [
    "import nltk"
   ]
  },
  {
   "cell_type": "code",
   "execution_count": 9,
   "id": "85d23132",
   "metadata": {},
   "outputs": [
    {
     "name": "stderr",
     "output_type": "stream",
     "text": [
      "[nltk_data] Downloading package punkt to\n",
      "[nltk_data]     C:\\Users\\Administrator\\AppData\\Roaming\\nltk_data...\n",
      "[nltk_data]   Package punkt is already up-to-date!\n",
      "[nltk_data] Downloading package wordnet to\n",
      "[nltk_data]     C:\\Users\\Administrator\\AppData\\Roaming\\nltk_data...\n",
      "[nltk_data]   Package wordnet is already up-to-date!\n"
     ]
    },
    {
     "data": {
      "text/plain": [
       "True"
      ]
     },
     "execution_count": 9,
     "metadata": {},
     "output_type": "execute_result"
    }
   ],
   "source": [
    "nltk.download('punkt')\n",
    "nltk.download('wordnet')"
   ]
  },
  {
   "cell_type": "code",
   "execution_count": 10,
   "id": "72cdde29",
   "metadata": {},
   "outputs": [
    {
     "data": {
      "text/plain": [
       "['Hello', 'how', 'are', 'you']"
      ]
     },
     "execution_count": 10,
     "metadata": {},
     "output_type": "execute_result"
    }
   ],
   "source": [
    "nltk.word_tokenize(\"Hello how are you\")"
   ]
  },
  {
   "cell_type": "markdown",
   "id": "36cfa972",
   "metadata": {},
   "source": [
    "another way tokenize the sentence"
   ]
  },
  {
   "cell_type": "code",
   "execution_count": 11,
   "id": "b23618f5",
   "metadata": {},
   "outputs": [],
   "source": [
    "s=\"Hello how are you\""
   ]
  },
  {
   "cell_type": "code",
   "execution_count": 12,
   "id": "8c52720a",
   "metadata": {},
   "outputs": [
    {
     "data": {
      "text/plain": [
       "['Hello', 'how', 'are', 'you']"
      ]
     },
     "execution_count": 12,
     "metadata": {},
     "output_type": "execute_result"
    }
   ],
   "source": [
    "s.split()"
   ]
  },
  {
   "cell_type": "code",
   "execution_count": 13,
   "id": "be7a4b68",
   "metadata": {},
   "outputs": [
    {
     "name": "stderr",
     "output_type": "stream",
     "text": [
      "[nltk_data] Downloading package stopwords to\n",
      "[nltk_data]     C:\\Users\\Administrator\\AppData\\Roaming\\nltk_data...\n",
      "[nltk_data]   Package stopwords is already up-to-date!\n"
     ]
    },
    {
     "data": {
      "text/plain": [
       "True"
      ]
     },
     "execution_count": 13,
     "metadata": {},
     "output_type": "execute_result"
    }
   ],
   "source": [
    "nltk.download('stopwords')"
   ]
  },
  {
   "cell_type": "markdown",
   "id": "8bdd1e0a",
   "metadata": {},
   "source": [
    "# remove stopwords"
   ]
  },
  {
   "cell_type": "code",
   "execution_count": 14,
   "id": "5d79c924",
   "metadata": {},
   "outputs": [
    {
     "name": "stdout",
     "output_type": "stream",
     "text": [
      "['i', 'me', 'my', 'myself', 'we', 'our', 'ours', 'ourselves', 'you', \"you're\", \"you've\", \"you'll\", \"you'd\", 'your', 'yours', 'yourself', 'yourselves', 'he', 'him', 'his', 'himself', 'she', \"she's\", 'her', 'hers', 'herself', 'it', \"it's\", 'its', 'itself', 'they', 'them', 'their', 'theirs', 'themselves', 'what', 'which', 'who', 'whom', 'this', 'that', \"that'll\", 'these', 'those', 'am', 'is', 'are', 'was', 'were', 'be', 'been', 'being', 'have', 'has', 'had', 'having', 'do', 'does', 'did', 'doing', 'a', 'an', 'the', 'and', 'but', 'if', 'or', 'because', 'as', 'until', 'while', 'of', 'at', 'by', 'for', 'with', 'about', 'against', 'between', 'into', 'through', 'during', 'before', 'after', 'above', 'below', 'to', 'from', 'up', 'down', 'in', 'out', 'on', 'off', 'over', 'under', 'again', 'further', 'then', 'once', 'here', 'there', 'when', 'where', 'why', 'how', 'all', 'any', 'both', 'each', 'few', 'more', 'most', 'other', 'some', 'such', 'no', 'nor', 'not', 'only', 'own', 'same', 'so', 'than', 'too', 'very', 's', 't', 'can', 'will', 'just', 'don', \"don't\", 'should', \"should've\", 'now', 'd', 'll', 'm', 'o', 're', 've', 'y', 'ain', 'aren', \"aren't\", 'couldn', \"couldn't\", 'didn', \"didn't\", 'doesn', \"doesn't\", 'hadn', \"hadn't\", 'hasn', \"hasn't\", 'haven', \"haven't\", 'isn', \"isn't\", 'ma', 'mightn', \"mightn't\", 'mustn', \"mustn't\", 'needn', \"needn't\", 'shan', \"shan't\", 'shouldn', \"shouldn't\", 'wasn', \"wasn't\", 'weren', \"weren't\", 'won', \"won't\", 'wouldn', \"wouldn't\"]\n"
     ]
    }
   ],
   "source": [
    "stopwords=nltk.corpus.stopwords.words(\"english\")\n",
    "print(stopwords)"
   ]
  },
  {
   "cell_type": "code",
   "execution_count": 15,
   "id": "f686079c",
   "metadata": {},
   "outputs": [
    {
     "name": "stdout",
     "output_type": "stream",
     "text": [
      "['i', 'me', 'my', 'myself', 'we', 'our', 'ours', 'ourselves', 'you', \"you're\", \"you've\", \"you'll\", \"you'd\", 'your', 'yours', 'yourself', 'yourselves', 'he', 'him', 'his', 'himself', 'she', \"she's\", 'her', 'hers', 'herself', 'it', \"it's\", 'its', 'itself', 'they', 'them', 'their', 'theirs', 'themselves', 'what', 'which', 'who', 'whom', 'this', 'that', \"that'll\", 'these', 'those', 'am', 'is', 'are', 'was', 'were', 'be', 'been', 'being', 'have', 'has', 'had', 'having', 'do', 'does', 'did', 'doing', 'a', 'an', 'the', 'and', 'but', 'if', 'or', 'because', 'as', 'until', 'while', 'of', 'at', 'by', 'for', 'with', 'about', 'against', 'between', 'into', 'through', 'during', 'before', 'after', 'above', 'below', 'to', 'from', 'up', 'down', 'in', 'out', 'on', 'off', 'over', 'under', 'again', 'further', 'then', 'once', 'here', 'there', 'when', 'where', 'why', 'how', 'all', 'any', 'both', 'each', 'few', 'more', 'most', 'other', 'some', 'such', 'no', 'nor', 'not', 'only', 'own', 'same', 'so', 'than', 'too', 'very', 's', 't', 'can', 'will', 'just', 'don', \"don't\", 'should', \"should've\", 'now', 'd', 'll', 'm', 'o', 're', 've', 'y', 'ain', 'aren', \"aren't\", 'couldn', \"couldn't\", 'didn', \"didn't\", 'doesn', \"doesn't\", 'hadn', \"hadn't\", 'hasn', \"hasn't\", 'haven', \"haven't\", 'isn', \"isn't\", 'ma', 'mightn', \"mightn't\", 'mustn', \"mustn't\", 'needn', \"needn't\", 'shan', \"shan't\", 'shouldn', \"shouldn't\", 'wasn', \"wasn't\", 'weren', \"weren't\", 'won', \"won't\", 'wouldn', \"wouldn't\", 'work']\n"
     ]
    }
   ],
   "source": [
    "stopwords.append('work')\n",
    "print(stopwords)"
   ]
  },
  {
   "cell_type": "markdown",
   "id": "edfa6429",
   "metadata": {},
   "source": [
    "# Stemming"
   ]
  },
  {
   "cell_type": "code",
   "execution_count": 16,
   "id": "ac68004c",
   "metadata": {},
   "outputs": [
    {
     "name": "stdout",
     "output_type": "stream",
     "text": [
      "there\n",
      "are\n",
      "sever\n",
      "type\n",
      "of\n",
      "stem\n",
      "algorithm\n",
      ".\n"
     ]
    }
   ],
   "source": [
    "from nltk.stem import PorterStemmer\n",
    "stemmer= PorterStemmer()\n",
    "input_str=\"There are several types of stemming algorithms.\"\n",
    "input_str= nltk.word_tokenize(input_str)\n",
    "for word in input_str:\n",
    "    print(stemmer.stem(word))"
   ]
  },
  {
   "cell_type": "markdown",
   "id": "5d757ef5",
   "metadata": {},
   "source": [
    "# Lemmatization"
   ]
  },
  {
   "cell_type": "code",
   "execution_count": 17,
   "id": "f2c46cd5",
   "metadata": {},
   "outputs": [
    {
     "name": "stdout",
     "output_type": "stream",
     "text": [
      "been\n",
      "had\n",
      "done\n",
      "language\n",
      "city\n",
      "mouse\n"
     ]
    }
   ],
   "source": [
    "from nltk.stem import WordNetLemmatizer\n",
    "lemmatizer= WordNetLemmatizer()\n",
    "input_str=\"been had done languages cities mice\"\n",
    "input_str= nltk.word_tokenize(input_str)\n",
    "for word in input_str:\n",
    "    print(lemmatizer.lemmatize(word))"
   ]
  },
  {
   "cell_type": "code",
   "execution_count": 18,
   "id": "30809748",
   "metadata": {},
   "outputs": [],
   "source": [
    "sample_lines=\"A broom is drearily sweeping. Up the broken pieces of yesterdays life. Somewhere a queen is weeping. Somewhere a king has no wife. And the wind, it cries Mary\""
   ]
  },
  {
   "cell_type": "code",
   "execution_count": 19,
   "id": "156090fb",
   "metadata": {},
   "outputs": [],
   "source": [
    "from nltk.tokenize import word_tokenize\n",
    "\n",
    "# Loop through each line of text and tokenize\n",
    "sample_lines_tokenized = [word_tokenize(line) for line in sample_lines]\n"
   ]
  },
  {
   "cell_type": "code",
   "execution_count": 20,
   "id": "3c85162b",
   "metadata": {},
   "outputs": [
    {
     "name": "stderr",
     "output_type": "stream",
     "text": [
      "[nltk_data] Downloading package punkt to\n",
      "[nltk_data]     C:\\Users\\Administrator\\AppData\\Roaming\\nltk_data...\n",
      "[nltk_data]   Package punkt is already up-to-date!\n"
     ]
    },
    {
     "data": {
      "text/plain": [
       "True"
      ]
     },
     "execution_count": 20,
     "metadata": {},
     "output_type": "execute_result"
    }
   ],
   "source": [
    "nltk.download('punkt')"
   ]
  },
  {
   "cell_type": "code",
   "execution_count": 21,
   "id": "e00a5bc9",
   "metadata": {},
   "outputs": [],
   "source": [
    "text = nltk.tokenize.sent_tokenize(sample_lines)"
   ]
  },
  {
   "cell_type": "code",
   "execution_count": 22,
   "id": "79b78bd4",
   "metadata": {},
   "outputs": [
    {
     "data": {
      "text/plain": [
       "['A broom is drearily sweeping.',\n",
       " 'Up the broken pieces of yesterdays life.',\n",
       " 'Somewhere a queen is weeping.',\n",
       " 'Somewhere a king has no wife.',\n",
       " 'And the wind, it cries Mary']"
      ]
     },
     "execution_count": 22,
     "metadata": {},
     "output_type": "execute_result"
    }
   ],
   "source": [
    "text"
   ]
  },
  {
   "cell_type": "code",
   "execution_count": 23,
   "id": "63deecf3",
   "metadata": {},
   "outputs": [],
   "source": [
    "#tokenized_sents = [word_tokenize(i) for i in text]\n",
    "#for i in tokenized_sents:\n",
    " #   print(i)"
   ]
  },
  {
   "cell_type": "code",
   "execution_count": 24,
   "id": "5907671b",
   "metadata": {},
   "outputs": [],
   "source": [
    "#tokenized_sents"
   ]
  },
  {
   "cell_type": "code",
   "execution_count": 25,
   "id": "345fa2e3",
   "metadata": {},
   "outputs": [],
   "source": [
    "#text=[[' '.join(i)] for i in tokenized_sents]\n",
    "#text"
   ]
  },
  {
   "cell_type": "code",
   "execution_count": 26,
   "id": "8189514f",
   "metadata": {},
   "outputs": [],
   "source": [
    "import pandas as pd\n",
    "data = pd.DataFrame({'Sentence':text})"
   ]
  },
  {
   "cell_type": "code",
   "execution_count": 27,
   "id": "4f5d2576",
   "metadata": {},
   "outputs": [
    {
     "data": {
      "text/plain": [
       "Sentence    object\n",
       "dtype: object"
      ]
     },
     "execution_count": 27,
     "metadata": {},
     "output_type": "execute_result"
    }
   ],
   "source": [
    "data.dtypes"
   ]
  },
  {
   "cell_type": "code",
   "execution_count": 28,
   "id": "68354c02",
   "metadata": {},
   "outputs": [],
   "source": [
    "df=data"
   ]
  },
  {
   "cell_type": "code",
   "execution_count": 29,
   "id": "8f3ded48",
   "metadata": {},
   "outputs": [],
   "source": [
    "# lemmatizer=WordNetLemmatizer()\n",
    "# for index,row in df.iterrows():\n",
    "#     filter_sentence=[]\n",
    "#     sentence=row['Sentence']\n",
    "#     sentence=re.sub(r'[^\\w\\s]','',sentence)#cleaning\n",
    "#     words= nltk.word_tokenize(sentence)#tokenization\n",
    "#     words=[w for w in words if not w in stopwords] # stopwords removel\n",
    "#     for word in words:\n",
    "#         filter_sentence.append(lemmatizer.lemmatize(word))\n",
    "#     print(filter_sentence)\n",
    "#     df.loc[index,'Sentence']=filter_sentence\n",
    "    "
   ]
  },
  {
   "cell_type": "code",
   "execution_count": null,
   "id": "22cf90a5",
   "metadata": {},
   "outputs": [],
   "source": []
  },
  {
   "cell_type": "code",
   "execution_count": 30,
   "id": "4c96348d",
   "metadata": {},
   "outputs": [
    {
     "data": {
      "text/html": [
       "<div>\n",
       "<style scoped>\n",
       "    .dataframe tbody tr th:only-of-type {\n",
       "        vertical-align: middle;\n",
       "    }\n",
       "\n",
       "    .dataframe tbody tr th {\n",
       "        vertical-align: top;\n",
       "    }\n",
       "\n",
       "    .dataframe thead th {\n",
       "        text-align: right;\n",
       "    }\n",
       "</style>\n",
       "<table border=\"1\" class=\"dataframe\">\n",
       "  <thead>\n",
       "    <tr style=\"text-align: right;\">\n",
       "      <th></th>\n",
       "      <th>Sentence</th>\n",
       "    </tr>\n",
       "  </thead>\n",
       "  <tbody>\n",
       "    <tr>\n",
       "      <th>0</th>\n",
       "      <td>A broom is drearily sweeping.</td>\n",
       "    </tr>\n",
       "    <tr>\n",
       "      <th>1</th>\n",
       "      <td>Up the broken pieces of yesterdays life.</td>\n",
       "    </tr>\n",
       "    <tr>\n",
       "      <th>2</th>\n",
       "      <td>Somewhere a queen is weeping.</td>\n",
       "    </tr>\n",
       "    <tr>\n",
       "      <th>3</th>\n",
       "      <td>Somewhere a king has no wife.</td>\n",
       "    </tr>\n",
       "    <tr>\n",
       "      <th>4</th>\n",
       "      <td>And the wind, it cries Mary</td>\n",
       "    </tr>\n",
       "  </tbody>\n",
       "</table>\n",
       "</div>"
      ],
      "text/plain": [
       "                                   Sentence\n",
       "0             A broom is drearily sweeping.\n",
       "1  Up the broken pieces of yesterdays life.\n",
       "2             Somewhere a queen is weeping.\n",
       "3             Somewhere a king has no wife.\n",
       "4               And the wind, it cries Mary"
      ]
     },
     "execution_count": 30,
     "metadata": {},
     "output_type": "execute_result"
    }
   ],
   "source": [
    "data"
   ]
  },
  {
   "cell_type": "code",
   "execution_count": 31,
   "id": "0f0623e0",
   "metadata": {},
   "outputs": [
    {
     "data": {
      "text/plain": [
       "'!\"#$%&\\'()*+,-./:;<=>?@[\\\\]^_`{|}~'"
      ]
     },
     "execution_count": 31,
     "metadata": {},
     "output_type": "execute_result"
    }
   ],
   "source": [
    "import string\n",
    "string.punctuation"
   ]
  },
  {
   "cell_type": "code",
   "execution_count": 32,
   "id": "08017998",
   "metadata": {},
   "outputs": [],
   "source": [
    "def remove_punctuation(text):\n",
    "    punc_free=\"\".join([i for i in text if i not in string.punctuation])\n",
    "    return punc_free"
   ]
  },
  {
   "cell_type": "code",
   "execution_count": 33,
   "id": "8c90297f",
   "metadata": {},
   "outputs": [
    {
     "data": {
      "text/html": [
       "<div>\n",
       "<style scoped>\n",
       "    .dataframe tbody tr th:only-of-type {\n",
       "        vertical-align: middle;\n",
       "    }\n",
       "\n",
       "    .dataframe tbody tr th {\n",
       "        vertical-align: top;\n",
       "    }\n",
       "\n",
       "    .dataframe thead th {\n",
       "        text-align: right;\n",
       "    }\n",
       "</style>\n",
       "<table border=\"1\" class=\"dataframe\">\n",
       "  <thead>\n",
       "    <tr style=\"text-align: right;\">\n",
       "      <th></th>\n",
       "      <th>Sentence</th>\n",
       "      <th>mg_remover</th>\n",
       "    </tr>\n",
       "  </thead>\n",
       "  <tbody>\n",
       "    <tr>\n",
       "      <th>0</th>\n",
       "      <td>A broom is drearily sweeping.</td>\n",
       "      <td>A broom is drearily sweeping</td>\n",
       "    </tr>\n",
       "    <tr>\n",
       "      <th>1</th>\n",
       "      <td>Up the broken pieces of yesterdays life.</td>\n",
       "      <td>Up the broken pieces of yesterdays life</td>\n",
       "    </tr>\n",
       "    <tr>\n",
       "      <th>2</th>\n",
       "      <td>Somewhere a queen is weeping.</td>\n",
       "      <td>Somewhere a queen is weeping</td>\n",
       "    </tr>\n",
       "    <tr>\n",
       "      <th>3</th>\n",
       "      <td>Somewhere a king has no wife.</td>\n",
       "      <td>Somewhere a king has no wife</td>\n",
       "    </tr>\n",
       "    <tr>\n",
       "      <th>4</th>\n",
       "      <td>And the wind, it cries Mary</td>\n",
       "      <td>And the wind it cries Mary</td>\n",
       "    </tr>\n",
       "  </tbody>\n",
       "</table>\n",
       "</div>"
      ],
      "text/plain": [
       "                                   Sentence  \\\n",
       "0             A broom is drearily sweeping.   \n",
       "1  Up the broken pieces of yesterdays life.   \n",
       "2             Somewhere a queen is weeping.   \n",
       "3             Somewhere a king has no wife.   \n",
       "4               And the wind, it cries Mary   \n",
       "\n",
       "                                mg_remover  \n",
       "0             A broom is drearily sweeping  \n",
       "1  Up the broken pieces of yesterdays life  \n",
       "2             Somewhere a queen is weeping  \n",
       "3             Somewhere a king has no wife  \n",
       "4               And the wind it cries Mary  "
      ]
     },
     "execution_count": 33,
     "metadata": {},
     "output_type": "execute_result"
    }
   ],
   "source": [
    "data[\"mg_remover\"]=data['Sentence'].apply(lambda x: remove_punctuation(x))\n",
    "data"
   ]
  },
  {
   "cell_type": "code",
   "execution_count": 34,
   "id": "a30dfc4a",
   "metadata": {},
   "outputs": [],
   "source": [
    "def tokenization(text):\n",
    "    token=text.split()\n",
    "    return token"
   ]
  },
  {
   "cell_type": "code",
   "execution_count": 35,
   "id": "26be43ed",
   "metadata": {},
   "outputs": [
    {
     "data": {
      "text/html": [
       "<div>\n",
       "<style scoped>\n",
       "    .dataframe tbody tr th:only-of-type {\n",
       "        vertical-align: middle;\n",
       "    }\n",
       "\n",
       "    .dataframe tbody tr th {\n",
       "        vertical-align: top;\n",
       "    }\n",
       "\n",
       "    .dataframe thead th {\n",
       "        text-align: right;\n",
       "    }\n",
       "</style>\n",
       "<table border=\"1\" class=\"dataframe\">\n",
       "  <thead>\n",
       "    <tr style=\"text-align: right;\">\n",
       "      <th></th>\n",
       "      <th>Sentence</th>\n",
       "      <th>mg_remover</th>\n",
       "      <th>tokenization</th>\n",
       "    </tr>\n",
       "  </thead>\n",
       "  <tbody>\n",
       "    <tr>\n",
       "      <th>0</th>\n",
       "      <td>A broom is drearily sweeping.</td>\n",
       "      <td>A broom is drearily sweeping</td>\n",
       "      <td>[A, broom, is, drearily, sweeping]</td>\n",
       "    </tr>\n",
       "    <tr>\n",
       "      <th>1</th>\n",
       "      <td>Up the broken pieces of yesterdays life.</td>\n",
       "      <td>Up the broken pieces of yesterdays life</td>\n",
       "      <td>[Up, the, broken, pieces, of, yesterdays, life]</td>\n",
       "    </tr>\n",
       "    <tr>\n",
       "      <th>2</th>\n",
       "      <td>Somewhere a queen is weeping.</td>\n",
       "      <td>Somewhere a queen is weeping</td>\n",
       "      <td>[Somewhere, a, queen, is, weeping]</td>\n",
       "    </tr>\n",
       "    <tr>\n",
       "      <th>3</th>\n",
       "      <td>Somewhere a king has no wife.</td>\n",
       "      <td>Somewhere a king has no wife</td>\n",
       "      <td>[Somewhere, a, king, has, no, wife]</td>\n",
       "    </tr>\n",
       "    <tr>\n",
       "      <th>4</th>\n",
       "      <td>And the wind, it cries Mary</td>\n",
       "      <td>And the wind it cries Mary</td>\n",
       "      <td>[And, the, wind, it, cries, Mary]</td>\n",
       "    </tr>\n",
       "  </tbody>\n",
       "</table>\n",
       "</div>"
      ],
      "text/plain": [
       "                                   Sentence  \\\n",
       "0             A broom is drearily sweeping.   \n",
       "1  Up the broken pieces of yesterdays life.   \n",
       "2             Somewhere a queen is weeping.   \n",
       "3             Somewhere a king has no wife.   \n",
       "4               And the wind, it cries Mary   \n",
       "\n",
       "                                mg_remover  \\\n",
       "0             A broom is drearily sweeping   \n",
       "1  Up the broken pieces of yesterdays life   \n",
       "2             Somewhere a queen is weeping   \n",
       "3             Somewhere a king has no wife   \n",
       "4               And the wind it cries Mary   \n",
       "\n",
       "                                      tokenization  \n",
       "0               [A, broom, is, drearily, sweeping]  \n",
       "1  [Up, the, broken, pieces, of, yesterdays, life]  \n",
       "2               [Somewhere, a, queen, is, weeping]  \n",
       "3              [Somewhere, a, king, has, no, wife]  \n",
       "4                [And, the, wind, it, cries, Mary]  "
      ]
     },
     "execution_count": 35,
     "metadata": {},
     "output_type": "execute_result"
    }
   ],
   "source": [
    "data[\"tokenization\"]=data[\"mg_remover\"].apply(lambda x: tokenization(x))\n",
    "data"
   ]
  },
  {
   "cell_type": "code",
   "execution_count": 36,
   "id": "8466190d",
   "metadata": {},
   "outputs": [],
   "source": [
    "stopwords=nltk.corpus.stopwords.words(\"english\")"
   ]
  },
  {
   "cell_type": "code",
   "execution_count": 37,
   "id": "61173491",
   "metadata": {},
   "outputs": [],
   "source": [
    "def remove_stopword(text):\n",
    "    output=[i for i in text if i not in stopwords]\n",
    "    return output"
   ]
  },
  {
   "cell_type": "code",
   "execution_count": 38,
   "id": "7ddbcc80",
   "metadata": {},
   "outputs": [
    {
     "data": {
      "text/html": [
       "<div>\n",
       "<style scoped>\n",
       "    .dataframe tbody tr th:only-of-type {\n",
       "        vertical-align: middle;\n",
       "    }\n",
       "\n",
       "    .dataframe tbody tr th {\n",
       "        vertical-align: top;\n",
       "    }\n",
       "\n",
       "    .dataframe thead th {\n",
       "        text-align: right;\n",
       "    }\n",
       "</style>\n",
       "<table border=\"1\" class=\"dataframe\">\n",
       "  <thead>\n",
       "    <tr style=\"text-align: right;\">\n",
       "      <th></th>\n",
       "      <th>Sentence</th>\n",
       "      <th>mg_remover</th>\n",
       "      <th>tokenization</th>\n",
       "      <th>mg_stopword</th>\n",
       "    </tr>\n",
       "  </thead>\n",
       "  <tbody>\n",
       "    <tr>\n",
       "      <th>0</th>\n",
       "      <td>A broom is drearily sweeping.</td>\n",
       "      <td>A broom is drearily sweeping</td>\n",
       "      <td>[A, broom, is, drearily, sweeping]</td>\n",
       "      <td>[A, broom, drearily, sweeping]</td>\n",
       "    </tr>\n",
       "    <tr>\n",
       "      <th>1</th>\n",
       "      <td>Up the broken pieces of yesterdays life.</td>\n",
       "      <td>Up the broken pieces of yesterdays life</td>\n",
       "      <td>[Up, the, broken, pieces, of, yesterdays, life]</td>\n",
       "      <td>[Up, broken, pieces, yesterdays, life]</td>\n",
       "    </tr>\n",
       "    <tr>\n",
       "      <th>2</th>\n",
       "      <td>Somewhere a queen is weeping.</td>\n",
       "      <td>Somewhere a queen is weeping</td>\n",
       "      <td>[Somewhere, a, queen, is, weeping]</td>\n",
       "      <td>[Somewhere, queen, weeping]</td>\n",
       "    </tr>\n",
       "    <tr>\n",
       "      <th>3</th>\n",
       "      <td>Somewhere a king has no wife.</td>\n",
       "      <td>Somewhere a king has no wife</td>\n",
       "      <td>[Somewhere, a, king, has, no, wife]</td>\n",
       "      <td>[Somewhere, king, wife]</td>\n",
       "    </tr>\n",
       "    <tr>\n",
       "      <th>4</th>\n",
       "      <td>And the wind, it cries Mary</td>\n",
       "      <td>And the wind it cries Mary</td>\n",
       "      <td>[And, the, wind, it, cries, Mary]</td>\n",
       "      <td>[And, wind, cries, Mary]</td>\n",
       "    </tr>\n",
       "  </tbody>\n",
       "</table>\n",
       "</div>"
      ],
      "text/plain": [
       "                                   Sentence  \\\n",
       "0             A broom is drearily sweeping.   \n",
       "1  Up the broken pieces of yesterdays life.   \n",
       "2             Somewhere a queen is weeping.   \n",
       "3             Somewhere a king has no wife.   \n",
       "4               And the wind, it cries Mary   \n",
       "\n",
       "                                mg_remover  \\\n",
       "0             A broom is drearily sweeping   \n",
       "1  Up the broken pieces of yesterdays life   \n",
       "2             Somewhere a queen is weeping   \n",
       "3             Somewhere a king has no wife   \n",
       "4               And the wind it cries Mary   \n",
       "\n",
       "                                      tokenization  \\\n",
       "0               [A, broom, is, drearily, sweeping]   \n",
       "1  [Up, the, broken, pieces, of, yesterdays, life]   \n",
       "2               [Somewhere, a, queen, is, weeping]   \n",
       "3              [Somewhere, a, king, has, no, wife]   \n",
       "4                [And, the, wind, it, cries, Mary]   \n",
       "\n",
       "                              mg_stopword  \n",
       "0          [A, broom, drearily, sweeping]  \n",
       "1  [Up, broken, pieces, yesterdays, life]  \n",
       "2             [Somewhere, queen, weeping]  \n",
       "3                 [Somewhere, king, wife]  \n",
       "4                [And, wind, cries, Mary]  "
      ]
     },
     "execution_count": 38,
     "metadata": {},
     "output_type": "execute_result"
    }
   ],
   "source": [
    "data[\"mg_stopword\"]=data['tokenization'].apply(lambda x: remove_stopword(x))\n",
    "data"
   ]
  },
  {
   "cell_type": "code",
   "execution_count": 39,
   "id": "b2c3d493",
   "metadata": {},
   "outputs": [],
   "source": [
    "from nltk.stem import PorterStemmer\n",
    "porte_stemmer= PorterStemmer()"
   ]
  },
  {
   "cell_type": "code",
   "execution_count": 40,
   "id": "7850693c",
   "metadata": {},
   "outputs": [],
   "source": [
    "def stemmer(text):\n",
    "    stem_text=[porte_stemmer.stem(word) for word in text]\n",
    "    return stem_text"
   ]
  },
  {
   "cell_type": "code",
   "execution_count": 41,
   "id": "df6a254f",
   "metadata": {},
   "outputs": [],
   "source": [
    "data[\"mg_stem\"]=data[\"mg_stopword\"].apply(lambda x: stemmer(x))"
   ]
  },
  {
   "cell_type": "code",
   "execution_count": 42,
   "id": "ca2d51f4",
   "metadata": {},
   "outputs": [
    {
     "data": {
      "text/html": [
       "<div>\n",
       "<style scoped>\n",
       "    .dataframe tbody tr th:only-of-type {\n",
       "        vertical-align: middle;\n",
       "    }\n",
       "\n",
       "    .dataframe tbody tr th {\n",
       "        vertical-align: top;\n",
       "    }\n",
       "\n",
       "    .dataframe thead th {\n",
       "        text-align: right;\n",
       "    }\n",
       "</style>\n",
       "<table border=\"1\" class=\"dataframe\">\n",
       "  <thead>\n",
       "    <tr style=\"text-align: right;\">\n",
       "      <th></th>\n",
       "      <th>Sentence</th>\n",
       "      <th>mg_remover</th>\n",
       "      <th>tokenization</th>\n",
       "      <th>mg_stopword</th>\n",
       "      <th>mg_stem</th>\n",
       "    </tr>\n",
       "  </thead>\n",
       "  <tbody>\n",
       "    <tr>\n",
       "      <th>0</th>\n",
       "      <td>A broom is drearily sweeping.</td>\n",
       "      <td>A broom is drearily sweeping</td>\n",
       "      <td>[A, broom, is, drearily, sweeping]</td>\n",
       "      <td>[A, broom, drearily, sweeping]</td>\n",
       "      <td>[a, broom, drearili, sweep]</td>\n",
       "    </tr>\n",
       "    <tr>\n",
       "      <th>1</th>\n",
       "      <td>Up the broken pieces of yesterdays life.</td>\n",
       "      <td>Up the broken pieces of yesterdays life</td>\n",
       "      <td>[Up, the, broken, pieces, of, yesterdays, life]</td>\n",
       "      <td>[Up, broken, pieces, yesterdays, life]</td>\n",
       "      <td>[up, broken, piec, yesterday, life]</td>\n",
       "    </tr>\n",
       "    <tr>\n",
       "      <th>2</th>\n",
       "      <td>Somewhere a queen is weeping.</td>\n",
       "      <td>Somewhere a queen is weeping</td>\n",
       "      <td>[Somewhere, a, queen, is, weeping]</td>\n",
       "      <td>[Somewhere, queen, weeping]</td>\n",
       "      <td>[somewher, queen, weep]</td>\n",
       "    </tr>\n",
       "    <tr>\n",
       "      <th>3</th>\n",
       "      <td>Somewhere a king has no wife.</td>\n",
       "      <td>Somewhere a king has no wife</td>\n",
       "      <td>[Somewhere, a, king, has, no, wife]</td>\n",
       "      <td>[Somewhere, king, wife]</td>\n",
       "      <td>[somewher, king, wife]</td>\n",
       "    </tr>\n",
       "    <tr>\n",
       "      <th>4</th>\n",
       "      <td>And the wind, it cries Mary</td>\n",
       "      <td>And the wind it cries Mary</td>\n",
       "      <td>[And, the, wind, it, cries, Mary]</td>\n",
       "      <td>[And, wind, cries, Mary]</td>\n",
       "      <td>[and, wind, cri, mari]</td>\n",
       "    </tr>\n",
       "  </tbody>\n",
       "</table>\n",
       "</div>"
      ],
      "text/plain": [
       "                                   Sentence  \\\n",
       "0             A broom is drearily sweeping.   \n",
       "1  Up the broken pieces of yesterdays life.   \n",
       "2             Somewhere a queen is weeping.   \n",
       "3             Somewhere a king has no wife.   \n",
       "4               And the wind, it cries Mary   \n",
       "\n",
       "                                mg_remover  \\\n",
       "0             A broom is drearily sweeping   \n",
       "1  Up the broken pieces of yesterdays life   \n",
       "2             Somewhere a queen is weeping   \n",
       "3             Somewhere a king has no wife   \n",
       "4               And the wind it cries Mary   \n",
       "\n",
       "                                      tokenization  \\\n",
       "0               [A, broom, is, drearily, sweeping]   \n",
       "1  [Up, the, broken, pieces, of, yesterdays, life]   \n",
       "2               [Somewhere, a, queen, is, weeping]   \n",
       "3              [Somewhere, a, king, has, no, wife]   \n",
       "4                [And, the, wind, it, cries, Mary]   \n",
       "\n",
       "                              mg_stopword                              mg_stem  \n",
       "0          [A, broom, drearily, sweeping]          [a, broom, drearili, sweep]  \n",
       "1  [Up, broken, pieces, yesterdays, life]  [up, broken, piec, yesterday, life]  \n",
       "2             [Somewhere, queen, weeping]              [somewher, queen, weep]  \n",
       "3                 [Somewhere, king, wife]               [somewher, king, wife]  \n",
       "4                [And, wind, cries, Mary]               [and, wind, cri, mari]  "
      ]
     },
     "execution_count": 42,
     "metadata": {},
     "output_type": "execute_result"
    }
   ],
   "source": [
    "data"
   ]
  },
  {
   "cell_type": "code",
   "execution_count": 43,
   "id": "820b9a95",
   "metadata": {},
   "outputs": [],
   "source": [
    "from nltk.stem import WordNetLemmatizer\n",
    "wordnet=WordNetLemmatizer()"
   ]
  },
  {
   "cell_type": "code",
   "execution_count": 44,
   "id": "950c6853",
   "metadata": {},
   "outputs": [],
   "source": [
    "def lemmatize(text):\n",
    "    wnl=[wordnet.lemmatize(word) for word in text]\n",
    "    return wnl\n",
    "  "
   ]
  },
  {
   "cell_type": "code",
   "execution_count": 45,
   "id": "83ee0707",
   "metadata": {},
   "outputs": [],
   "source": [
    "data[\"mg_lemmatize\"]=data[\"mg_stopword\"].apply(lambda x: lemmatize(x))"
   ]
  },
  {
   "cell_type": "code",
   "execution_count": 46,
   "id": "ce08c258",
   "metadata": {
    "scrolled": true
   },
   "outputs": [
    {
     "data": {
      "text/html": [
       "<div>\n",
       "<style scoped>\n",
       "    .dataframe tbody tr th:only-of-type {\n",
       "        vertical-align: middle;\n",
       "    }\n",
       "\n",
       "    .dataframe tbody tr th {\n",
       "        vertical-align: top;\n",
       "    }\n",
       "\n",
       "    .dataframe thead th {\n",
       "        text-align: right;\n",
       "    }\n",
       "</style>\n",
       "<table border=\"1\" class=\"dataframe\">\n",
       "  <thead>\n",
       "    <tr style=\"text-align: right;\">\n",
       "      <th></th>\n",
       "      <th>Sentence</th>\n",
       "      <th>mg_remover</th>\n",
       "      <th>tokenization</th>\n",
       "      <th>mg_stopword</th>\n",
       "      <th>mg_stem</th>\n",
       "      <th>mg_lemmatize</th>\n",
       "    </tr>\n",
       "  </thead>\n",
       "  <tbody>\n",
       "    <tr>\n",
       "      <th>0</th>\n",
       "      <td>A broom is drearily sweeping.</td>\n",
       "      <td>A broom is drearily sweeping</td>\n",
       "      <td>[A, broom, is, drearily, sweeping]</td>\n",
       "      <td>[A, broom, drearily, sweeping]</td>\n",
       "      <td>[a, broom, drearili, sweep]</td>\n",
       "      <td>[A, broom, drearily, sweeping]</td>\n",
       "    </tr>\n",
       "    <tr>\n",
       "      <th>1</th>\n",
       "      <td>Up the broken pieces of yesterdays life.</td>\n",
       "      <td>Up the broken pieces of yesterdays life</td>\n",
       "      <td>[Up, the, broken, pieces, of, yesterdays, life]</td>\n",
       "      <td>[Up, broken, pieces, yesterdays, life]</td>\n",
       "      <td>[up, broken, piec, yesterday, life]</td>\n",
       "      <td>[Up, broken, piece, yesterday, life]</td>\n",
       "    </tr>\n",
       "    <tr>\n",
       "      <th>2</th>\n",
       "      <td>Somewhere a queen is weeping.</td>\n",
       "      <td>Somewhere a queen is weeping</td>\n",
       "      <td>[Somewhere, a, queen, is, weeping]</td>\n",
       "      <td>[Somewhere, queen, weeping]</td>\n",
       "      <td>[somewher, queen, weep]</td>\n",
       "      <td>[Somewhere, queen, weeping]</td>\n",
       "    </tr>\n",
       "    <tr>\n",
       "      <th>3</th>\n",
       "      <td>Somewhere a king has no wife.</td>\n",
       "      <td>Somewhere a king has no wife</td>\n",
       "      <td>[Somewhere, a, king, has, no, wife]</td>\n",
       "      <td>[Somewhere, king, wife]</td>\n",
       "      <td>[somewher, king, wife]</td>\n",
       "      <td>[Somewhere, king, wife]</td>\n",
       "    </tr>\n",
       "    <tr>\n",
       "      <th>4</th>\n",
       "      <td>And the wind, it cries Mary</td>\n",
       "      <td>And the wind it cries Mary</td>\n",
       "      <td>[And, the, wind, it, cries, Mary]</td>\n",
       "      <td>[And, wind, cries, Mary]</td>\n",
       "      <td>[and, wind, cri, mari]</td>\n",
       "      <td>[And, wind, cry, Mary]</td>\n",
       "    </tr>\n",
       "  </tbody>\n",
       "</table>\n",
       "</div>"
      ],
      "text/plain": [
       "                                   Sentence  \\\n",
       "0             A broom is drearily sweeping.   \n",
       "1  Up the broken pieces of yesterdays life.   \n",
       "2             Somewhere a queen is weeping.   \n",
       "3             Somewhere a king has no wife.   \n",
       "4               And the wind, it cries Mary   \n",
       "\n",
       "                                mg_remover  \\\n",
       "0             A broom is drearily sweeping   \n",
       "1  Up the broken pieces of yesterdays life   \n",
       "2             Somewhere a queen is weeping   \n",
       "3             Somewhere a king has no wife   \n",
       "4               And the wind it cries Mary   \n",
       "\n",
       "                                      tokenization  \\\n",
       "0               [A, broom, is, drearily, sweeping]   \n",
       "1  [Up, the, broken, pieces, of, yesterdays, life]   \n",
       "2               [Somewhere, a, queen, is, weeping]   \n",
       "3              [Somewhere, a, king, has, no, wife]   \n",
       "4                [And, the, wind, it, cries, Mary]   \n",
       "\n",
       "                              mg_stopword  \\\n",
       "0          [A, broom, drearily, sweeping]   \n",
       "1  [Up, broken, pieces, yesterdays, life]   \n",
       "2             [Somewhere, queen, weeping]   \n",
       "3                 [Somewhere, king, wife]   \n",
       "4                [And, wind, cries, Mary]   \n",
       "\n",
       "                               mg_stem                          mg_lemmatize  \n",
       "0          [a, broom, drearili, sweep]        [A, broom, drearily, sweeping]  \n",
       "1  [up, broken, piec, yesterday, life]  [Up, broken, piece, yesterday, life]  \n",
       "2              [somewher, queen, weep]           [Somewhere, queen, weeping]  \n",
       "3               [somewher, king, wife]               [Somewhere, king, wife]  \n",
       "4               [and, wind, cri, mari]                [And, wind, cry, Mary]  "
      ]
     },
     "execution_count": 46,
     "metadata": {},
     "output_type": "execute_result"
    }
   ],
   "source": [
    "data"
   ]
  },
  {
   "cell_type": "code",
   "execution_count": 48,
   "id": "9d21089c",
   "metadata": {},
   "outputs": [],
   "source": [
    "input_str = \"The 5 biggest countries by population in 2017 are China, India, United States, Indonesia, and Brazil.\""
   ]
  },
  {
   "cell_type": "code",
   "execution_count": 49,
   "id": "326249cd",
   "metadata": {},
   "outputs": [
    {
     "data": {
      "text/plain": [
       "'The 5 biggest countries by population in 2017 are China, India, United States, Indonesia, and Brazil.'"
      ]
     },
     "execution_count": 49,
     "metadata": {},
     "output_type": "execute_result"
    }
   ],
   "source": [
    "input_str"
   ]
  },
  {
   "cell_type": "markdown",
   "id": "a05d1660",
   "metadata": {},
   "source": [
    "convert lower"
   ]
  },
  {
   "cell_type": "code",
   "execution_count": 52,
   "id": "6ed0ac5a",
   "metadata": {},
   "outputs": [
    {
     "data": {
      "text/plain": [
       "'the 5 biggest countries by population in 2017 are china, india, united states, indonesia, and brazil.'"
      ]
     },
     "execution_count": 52,
     "metadata": {},
     "output_type": "execute_result"
    }
   ],
   "source": [
    "input=input_str.lower()\n",
    "input"
   ]
  },
  {
   "cell_type": "markdown",
   "id": "9de743b4",
   "metadata": {},
   "source": [
    "remove digit"
   ]
  },
  {
   "cell_type": "code",
   "execution_count": 54,
   "id": "4253c99a",
   "metadata": {},
   "outputs": [
    {
     "data": {
      "text/plain": [
       "'the  biggest countries by population in  are china, india, united states, indonesia, and brazil.'"
      ]
     },
     "execution_count": 54,
     "metadata": {},
     "output_type": "execute_result"
    }
   ],
   "source": [
    "import re\n",
    "input=re.sub(\"\\d\",'',input)\n",
    "input"
   ]
  },
  {
   "cell_type": "markdown",
   "id": "4dec4016",
   "metadata": {},
   "source": [
    "remove punctuation"
   ]
  },
  {
   "cell_type": "code",
   "execution_count": 60,
   "id": "ffdb5a51",
   "metadata": {},
   "outputs": [
    {
     "data": {
      "text/plain": [
       "'the  biggest countries by population in  are china india united states indonesia and brazil'"
      ]
     },
     "execution_count": 60,
     "metadata": {},
     "output_type": "execute_result"
    }
   ],
   "source": [
    "import re\n",
    "input=re.sub(r'[^\\w\\s]','',input)\n",
    "input"
   ]
  },
  {
   "cell_type": "markdown",
   "id": "d27d29bc",
   "metadata": {},
   "source": [
    "tokenize"
   ]
  },
  {
   "cell_type": "code",
   "execution_count": 61,
   "id": "530df9d1",
   "metadata": {},
   "outputs": [],
   "source": [
    "input=input.split()"
   ]
  },
  {
   "cell_type": "code",
   "execution_count": 63,
   "id": "110f6cc8",
   "metadata": {},
   "outputs": [
    {
     "name": "stdout",
     "output_type": "stream",
     "text": [
      "['the', 'biggest', 'countries', 'by', 'population', 'in', 'are', 'china', 'india', 'united', 'states', 'indonesia', 'and', 'brazil']\n"
     ]
    }
   ],
   "source": [
    "print(input)"
   ]
  },
  {
   "cell_type": "markdown",
   "id": "ebbbcf06",
   "metadata": {},
   "source": [
    "stop words remove"
   ]
  },
  {
   "cell_type": "code",
   "execution_count": 65,
   "id": "91549176",
   "metadata": {},
   "outputs": [
    {
     "name": "stdout",
     "output_type": "stream",
     "text": [
      "['biggest', 'countries', 'population', 'china', 'india', 'united', 'states', 'indonesia', 'brazil']\n"
     ]
    }
   ],
   "source": [
    "import nltk\n",
    "stopwords= nltk.corpus.stopwords.words(\"english\")\n",
    "result_input=[i for i in input if i not in stopwords]\n",
    "print(result_input)"
   ]
  },
  {
   "cell_type": "markdown",
   "id": "b70ed882",
   "metadata": {},
   "source": [
    "stemming"
   ]
  },
  {
   "cell_type": "code",
   "execution_count": 66,
   "id": "3f9e4ffe",
   "metadata": {},
   "outputs": [
    {
     "name": "stdout",
     "output_type": "stream",
     "text": [
      "biggest\n",
      "countri\n",
      "popul\n",
      "china\n",
      "india\n",
      "unit\n",
      "state\n",
      "indonesia\n",
      "brazil\n"
     ]
    }
   ],
   "source": [
    "from nltk.stem import PorterStemmer\n",
    "porter_stemmer= PorterStemmer()\n",
    "for word in result_input:\n",
    "    print(porter_stemmer.stem(word))\n"
   ]
  },
  {
   "cell_type": "code",
   "execution_count": 67,
   "id": "f914c8b3",
   "metadata": {},
   "outputs": [
    {
     "name": "stdout",
     "output_type": "stream",
     "text": [
      "['biggest', 'countries', 'population', 'china', 'india', 'united', 'states', 'indonesia', 'brazil']\n"
     ]
    }
   ],
   "source": [
    "print(result_input)"
   ]
  },
  {
   "cell_type": "markdown",
   "id": "62f2a1d6",
   "metadata": {},
   "source": [
    "lemmatization"
   ]
  },
  {
   "cell_type": "code",
   "execution_count": 69,
   "id": "f18794a2",
   "metadata": {},
   "outputs": [
    {
     "name": "stdout",
     "output_type": "stream",
     "text": [
      "biggest\n",
      "country\n",
      "population\n",
      "china\n",
      "india\n",
      "united\n",
      "state\n",
      "indonesia\n",
      "brazil\n"
     ]
    }
   ],
   "source": [
    "from nltk.stem import WordNetLemmatizer\n",
    "wnl= WordNetLemmatizer()\n",
    "for word in result_input:\n",
    "    print(wnl.lemmatize(word))\n"
   ]
  },
  {
   "cell_type": "code",
   "execution_count": null,
   "id": "4181545b",
   "metadata": {},
   "outputs": [],
   "source": []
  }
 ],
 "metadata": {
  "kernelspec": {
   "display_name": "Python 3 (ipykernel)",
   "language": "python",
   "name": "python3"
  },
  "language_info": {
   "codemirror_mode": {
    "name": "ipython",
    "version": 3
   },
   "file_extension": ".py",
   "mimetype": "text/x-python",
   "name": "python",
   "nbconvert_exporter": "python",
   "pygments_lexer": "ipython3",
   "version": "3.9.7"
  }
 },
 "nbformat": 4,
 "nbformat_minor": 5
}
